{
 "cells": [
  {
   "cell_type": "markdown",
   "metadata": {},
   "source": [
    "# Intro notebook\n",
    "\n",
    "Some important links to keep open during the workshop – open these tabs **now**!:\n",
    "\n",
    "- [TF documentation](https://www.tensorflow.org/versions/master/api_guides/python/array_ops) : Use the search box (top right) to get documentation on Tensorflow's rich API\n",
    "\n",
    "- [solutions/](https://github.com/tensorflow/workshops/tree/master/extras/amld/notebooks/solutions) : Every notebook in the `exercises/` directory has a corresponding notebook in the `solutions/` directory."
   ]
  },
  {
   "cell_type": "code",
   "execution_count": 1,
   "metadata": {},
   "outputs": [
    {
     "data": {
      "text/plain": [
       "'1.7.0'"
      ]
     },
     "execution_count": 1,
     "metadata": {},
     "output_type": "execute_result"
    }
   ],
   "source": [
    "import tensorflow as tf\n",
    "import numpy as np\n",
    "from matplotlib import pyplot\n",
    "%matplotlib inline\n",
    "# Always make sure you are using running the expected version.\n",
    "# There are considerable differences between versions...\n",
    "# Make sure your version is \"1.4.X\"\n",
    "tf.__version__"
   ]
  },
  {
   "cell_type": "markdown",
   "metadata": {},
   "source": [
    "Important shortcuts – **give it a try!**\n",
    "\n",
    "If you run this notebook with **Colab**:\n",
    "\n",
    "- `<CTRL-ENTER>`  : executes current cell\n",
    "- `<SHIFT-ENTER>` : executes current cell and moves to next cell\n",
    "- `<CTRL-SHIFT-P>` : shows searchable command palette\n",
    "- `<CTRL-M> <A>` : insert cell above\n",
    "- `<CTRL-M> <B>` : append cell below\n",
    "- `<CTRL-M> <Y>` : convert cell to code\n",
    "- `<CTRL-M> <M>` : convert cell to Markdown\n",
    "\n",
    "If you run this notebook with **Jupyter**:\n",
    "\n",
    "- `<ESC>` : goes from edit to \"command\" mode\n",
    "- `<ENTER>` : goes from \"command\" to edit mode\n",
    "- `<CTRL-ENTER>` : executes current cell\n",
    "- `<SHIFT-ENTER>` : executes current cell and moves to next cell\n",
    "- `<h>` : shows help (works only in \"command\" mode)\n",
    "- `<CTRL-SHIFT-P>` : shows searchable command palette\n",
    "- `<m>` : change cell from \"code\" to \"markdown\" (works only in \"command\" mode)\n",
    "- `<y>` : change cell from \"markdown\" to \"code\" (works only in \"command\" mode)\n",
    "\n",
    "Note: On OS X you can use `<COMMAND>` instead of `<CTRL>`"
   ]
  },
  {
   "cell_type": "code",
   "execution_count": 2,
   "metadata": {},
   "outputs": [
    {
     "data": {
      "text/plain": [
       "<matplotlib.collections.PathCollection at 0x182549c208>"
      ]
     },
     "execution_count": 2,
     "metadata": {},
     "output_type": "execute_result"
    },
    {
     "data": {
      "image/png": "[encoded data removed]",
      "text/plain": [
       "<matplotlib.figure.Figure at 0x181c564b38>"
      ]
     },
     "metadata": {},
     "output_type": "display_data"
    }
   ],
   "source": [
    "# Check that matplotlib is working.\n",
    "x = np.random.rand(100).astype(np.float32)\n",
    "noise = np.random.normal(scale=0.3, size=len(x))\n",
    "y = np.sin(x * 7) + noise\n",
    "pyplot.scatter(x, y)"
   ]
  },
  {
   "cell_type": "code",
   "execution_count": 3,
   "metadata": {},
   "outputs": [
    {
     "name": "stdout",
     "output_type": "stream",
     "text": [
      "/Users/andreassteiner/git/amld/github/workshops/extras/amld/notebooks/solutions\n",
      "0_intro.ipynb             3_tf_ml.ipynb             README.md\n",
      "1_qd_data.ipynb           4_qd_estimator.ipynb      \u001b[34m_derived\u001b[m\u001b[m\n",
      "2_tf_basics.ipynb         5_qd_cloud.ipynb          _generate_exercises.ipynb\n"
     ]
    }
   ],
   "source": [
    "# You can run shell commands directly in Jupyter: simply prepend\n",
    "# the command with a \"!\".\n",
    "!pwd\n",
    "!ls"
   ]
  },
  {
   "cell_type": "code",
   "execution_count": 4,
   "metadata": {},
   "outputs": [
    {
     "data": {
      "text/plain": [
       "<function tensorflow.python.ops.array_ops.one_hot>"
      ]
     },
     "execution_count": 4,
     "metadata": {},
     "output_type": "execute_result"
    }
   ],
   "source": [
    "# Auto-completion: Jupyter shows possible completions of partially typed\n",
    "# commands -- place the cursor below just \"one\" and type <TAB>\n",
    "### YOUR ACTION REQUIRED:\n",
    "# Complete below line.\n",
    "tf.one_hot #tf.one"
   ]
  },
  {
   "cell_type": "code",
   "execution_count": 5,
   "metadata": {},
   "outputs": [
    {
     "data": {
      "text/plain": [
       "'Welcome to the AMLD Tensorflow basics Workshop!'"
      ]
     },
     "execution_count": 5,
     "metadata": {},
     "output_type": "execute_result"
    }
   ],
   "source": [
    "def xor_str(a, b):\n",
    "    return ''.join([chr(ord(a[i % len(a)]) ^ ord(b[i % len(b)]))\n",
    "                    for i in range(max(len(a), len(b)))])\n",
    "\n",
    "### YOUR ACTION REQUIRED:\n",
    "# Try to find the \"correct value\" for below variable...\n",
    "workshop_secret = 'Tensorflow rocks' #workshop_secret = '(replace me!)'\n",
    "xor_str(workshop_secret, '\\x03\\x00\\x02\\x10\\x00\\x1f\\x03L\\x1b\\x18\\x00\\x06\\x07\\x06K2\\x19)*S;\\x17\\x08\\x1f\\x00\\x05F\\x1e\\x00\\x14K\\x115\\x16\\x07\\x10\\x1cR1\\x03\\x1d\\x1cS\\x1a\\x00\\x13J')\n",
    "\n",
    "# Hint: You might want to checkout the ../solutions directory\n",
    "# (you should already have opened this directory in a browser tab :-)"
   ]
  }
 ],
 "metadata": {
  "kernelspec": {
   "display_name": "Python 3",
   "language": "python",
   "name": "python3"
  },
  "language_info": {
   "codemirror_mode": {
    "name": "ipython",
    "version": 3
   },
   "file_extension": ".py",
   "mimetype": "text/x-python",
   "name": "python",
   "nbconvert_exporter": "python",
   "pygments_lexer": "ipython3",
   "version": "3.6.4"
  },
  "toc": {
   "nav_menu": {},
   "number_sections": true,
   "sideBar": true,
   "skip_h1_title": false,
   "title_cell": "Table of Contents",
   "title_sidebar": "Contents",
   "toc_cell": false,
   "toc_position": {},
   "toc_section_display": true,
   "toc_window_display": false
  }
 },
 "nbformat": 4,
 "nbformat_minor": 2
}
