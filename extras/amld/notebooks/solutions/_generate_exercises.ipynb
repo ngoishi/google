{
 "cells": [
  {
   "cell_type": "code",
   "execution_count": 1,
   "metadata": {},
   "outputs": [],
   "source": [
    "import json, os, re\n",
    "from IPython.core.display import display, HTML"
   ]
  },
  {
   "cell_type": "code",
   "execution_count": 2,
   "metadata": {},
   "outputs": [],
   "source": [
    "def convert(code):\n",
    "    converted = []\n",
    "    for line in code:\n",
    "        if line.startswith('#--snip'):\n",
    "            break\n",
    "        m = re.match(r'^(\\s*)(.+)#([^ ].*)$', line)\n",
    "        converted.append((m.group(1) + m.group(3) + '\\n') if m else line)\n",
    "    return converted"
   ]
  },
  {
   "cell_type": "code",
   "execution_count": 3,
   "metadata": {},
   "outputs": [
    {
     "data": {
      "text/html": [
       "<pre>"
      ],
      "text/plain": [
       "<IPython.core.display.HTML object>"
      ]
     },
     "metadata": {},
     "output_type": "display_data"
    },
    {
     "data": {
      "text/html": [
       "<li><a target=\"_blank\" href=\"./0_intro.ipynb\">./0_intro.ipynb</a> (16060 bytes) &#8680; <a target=\"_blank\" href=\"../exercises/0_intro.ipynb\">../exercises/0_intro.ipynb</a> (4310 bytes)</li>"
      ],
      "text/plain": [
       "<IPython.core.display.HTML object>"
      ]
     },
     "metadata": {},
     "output_type": "display_data"
    },
    {
     "data": {
      "text/html": [
       "<li><a target=\"_blank\" href=\"./1_qd_data.ipynb\">./1_qd_data.ipynb</a> (279638 bytes) &#8680; <a target=\"_blank\" href=\"../exercises/1_qd_data.ipynb\">../exercises/1_qd_data.ipynb</a> (35874 bytes)</li>"
      ],
      "text/plain": [
       "<IPython.core.display.HTML object>"
      ]
     },
     "metadata": {},
     "output_type": "display_data"
    },
    {
     "data": {
      "text/html": [
       "<li><a target=\"_blank\" href=\"./2_tf_basics.ipynb\">./2_tf_basics.ipynb</a> (60867 bytes) &#8680; <a target=\"_blank\" href=\"../exercises/2_tf_basics.ipynb\">../exercises/2_tf_basics.ipynb</a> (41563 bytes)</li>"
      ],
      "text/plain": [
       "<IPython.core.display.HTML object>"
      ]
     },
     "metadata": {},
     "output_type": "display_data"
    },
    {
     "data": {
      "text/html": [
       "<li><a target=\"_blank\" href=\"./3_tf_ml.ipynb\">./3_tf_ml.ipynb</a> (60343 bytes) &#8680; <a target=\"_blank\" href=\"../exercises/3_tf_ml.ipynb\">../exercises/3_tf_ml.ipynb</a> (16127 bytes)</li>"
      ],
      "text/plain": [
       "<IPython.core.display.HTML object>"
      ]
     },
     "metadata": {},
     "output_type": "display_data"
    },
    {
     "data": {
      "text/html": [
       "<li><a target=\"_blank\" href=\"./4_qd_estimator.ipynb\">./4_qd_estimator.ipynb</a> (230882 bytes) &#8680; <a target=\"_blank\" href=\"../exercises/4_qd_estimator.ipynb\">../exercises/4_qd_estimator.ipynb</a> (60305 bytes)</li>"
      ],
      "text/plain": [
       "<IPython.core.display.HTML object>"
      ]
     },
     "metadata": {},
     "output_type": "display_data"
    },
    {
     "data": {
      "text/html": [
       "<li><a target=\"_blank\" href=\"./5_qd_cloud.ipynb\">./5_qd_cloud.ipynb</a> (12811 bytes) &#8680; <a target=\"_blank\" href=\"../exercises/5_qd_cloud.ipynb\">../exercises/5_qd_cloud.ipynb</a> (9760 bytes)</li>"
      ],
      "text/plain": [
       "<IPython.core.display.HTML object>"
      ]
     },
     "metadata": {},
     "output_type": "display_data"
    }
   ],
   "source": [
    "SOURCE = '.'\n",
    "DESTINATION = '../exercises'\n",
    "NOTE_FMT = '### NOTE: This file is auto-generated from \"%s\".\\n\\n'\n",
    "LINK_FMT = ('<li><a target=\"_blank\" href=\"%s\">%s</a> (%d bytes) &#8680; '\n",
    "            '<a target=\"_blank\" href=\"%s\">%s</a> (%d bytes)</li>')\n",
    "if not os.path.exists(DESTINATION):\n",
    "    os.mkdir(DESTINATION)\n",
    "display(HTML('<pre>'))\n",
    "for name in os.listdir(SOURCE):\n",
    "    if not name.endswith('.ipynb') or name.startswith('_'):\n",
    "        continue\n",
    "    path = os.path.join(SOURCE, name)\n",
    "    nb = json.load(open(path))\n",
    "    for cell in nb['cells']:\n",
    "        if cell['cell_type'] == 'code':\n",
    "            cell['source'] = convert(cell['source'])\n",
    "        if 'outputs' in cell: cell['outputs'] = []\n",
    "        if 'execution_count' in cell: cell['execution_count'] = None\n",
    "#     nb['cells'][0]['source'].insert(0, NOTE_FMT % os.path.abspath(path))\n",
    "    path2 = os.path.join(DESTINATION, name)\n",
    "    json.dump(nb, open(path2, 'w'))\n",
    "    display(HTML(LINK_FMT % (path, path, os.path.getsize(path),\n",
    "                             path2, path2, os.path.getsize(path2))))"
   ]
  }
 ],
 "metadata": {
  "kernelspec": {
   "display_name": "Python 3",
   "language": "python",
   "name": "python3"
  },
  "language_info": {
   "codemirror_mode": {
    "name": "ipython",
    "version": 3
   },
   "file_extension": ".py",
   "mimetype": "text/x-python",
   "name": "python",
   "nbconvert_exporter": "python",
   "pygments_lexer": "ipython3",
   "version": "3.6.4"
  },
  "toc": {
   "nav_menu": {},
   "number_sections": true,
   "sideBar": true,
   "skip_h1_title": false,
   "title_cell": "Table of Contents",
   "title_sidebar": "Contents",
   "toc_cell": false,
   "toc_position": {},
   "toc_section_display": true,
   "toc_window_display": false
  }
 },
 "nbformat": 4,
 "nbformat_minor": 2
}
