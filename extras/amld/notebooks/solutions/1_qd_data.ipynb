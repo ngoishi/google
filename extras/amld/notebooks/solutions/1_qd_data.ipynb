{
 "cells": [
  {
   "cell_type": "markdown",
   "metadata": {
    "colab_type": "text",
    "id": "rtiYQNdwGeFs"
   },
   "source": [
    "# QuickDraw Data\n",
    "\n",
    "If machine learning is rocket science then data is your fuel! So before\n",
    "doing anything we will have a close look at the data available and spend\n",
    "some time bringing it into the \"right\" form (i.e.\n",
    "[tf.train.Example](https://www.tensorflow.org/versions/r1.0/api_docs/python/tf/train/Example)).\n",
    "\n",
    "That's why we start by spending quite a lot on this notebook, downloading\n",
    "the data, understanding it, and transforming it into the right format for\n",
    "Tensorflow.\n",
    "\n",
    "The data used in this workshop is taken from Google's quickdraw (click on\n",
    "the images to see loads of examples):\n",
    "\n",
    "https://quickdraw.withgoogle.com/data"
   ]
  },
  {
   "cell_type": "code",
   "execution_count": 1,
   "metadata": {
    "colab": {
     "autoexec": {
      "startup": false,
      "wait_interval": 0
     },
     "base_uri": "https://localhost:8080/",
     "height": 34
    },
    "colab_type": "code",
    "executionInfo": {
     "elapsed": 1870,
     "status": "ok",
     "timestamp": 1526711859165,
     "user": {
      "displayName": "Andreas Steiner",
      "photoUrl": "https://lh3.googleusercontent.com/a/default-user=s128",
      "userId": "115804658599019978174"
     },
     "user_tz": -120
    },
    "id": "EBkp94O9GeFt",
    "outputId": "b113fb28-56aa-499b-e786-50a6080376ff"
   },
   "outputs": [
    {
     "data": {
      "text/plain": [
       "'1.7.0'"
      ]
     },
     "execution_count": 1,
     "metadata": {},
     "output_type": "execute_result"
    }
   ],
   "source": [
    "from __future__ import division, print_function\n",
    "\n",
    "import base64, io, itertools, functools, json, os, random, re, textwrap, time\n",
    "import numpy as np\n",
    "import tensorflow as tf\n",
    "from matplotlib import pyplot\n",
    "from PIL import Image, ImageDraw\n",
    "from IPython import display\n",
    "from six.moves.urllib import request\n",
    "from xml.dom import minidom\n",
    "\n",
    "!mkdir -p _derived  # (Needed for running in Colab environment.)\n",
    "%matplotlib inline\n",
    "# Always make sure you are using running the expected version.\n",
    "# There are considerable differences between versions...\n",
    "# Tested with 1.4.1 and 1.7.0\n",
    "tf.__version__"
   ]
  },
  {
   "cell_type": "markdown",
   "metadata": {
    "colab_type": "text",
    "id": "eY81Xe9CGeFz"
   },
   "source": [
    "# 1 Get the data\n",
    "\n",
    "In this section we download a set of raw data files from the web."
   ]
  },
  {
   "cell_type": "code",
   "execution_count": 2,
   "metadata": {
    "colab": {
     "autoexec": {
      "startup": false,
      "wait_interval": 0
     },
     "base_uri": "https://localhost:8080/",
     "height": 476
    },
    "colab_type": "code",
    "executionInfo": {
     "elapsed": 1535,
     "status": "ok",
     "timestamp": 1526711817011,
     "user": {
      "displayName": "Andreas Steiner",
      "photoUrl": "https://lh3.googleusercontent.com/a/default-user=s128",
      "userId": "115804658599019978174"
     },
     "user_tz": -120
    },
    "id": "ujcwY2WRGeFz",
    "outputId": "7cefd4bd-9436-47bc-865e-4daa86ccc4f7"
   },
   "outputs": [
    {
     "name": "stdout",
     "output_type": "stream",
     "text": [
      "available: (309)\n",
      "The Eiffel Tower The Great Wall of China The Mona Lisa aircraft carrier airplane alarm clock\n",
      "ambulance angel animal migration ant anvil apple arm asparagus axe backpack banana bandage barn\n",
      "baseball bat baseball basket basketball bat bathtub beach bear beard bed bee belt bench bicycle\n",
      "binoculars bird birthday cake blackberry blueberry book boomerang bottlecap bowtie bracelet brain\n",
      "bread bridge broccoli broom bucket bulldozer bus bush butterfly cactus cake calculator calendar\n",
      "camel camera camouflage campfire candle cannon canoe car carrot castle cat ceiling fan cell phone\n",
      "cello chair chandelier church circle clarinet clock cloud coffee cup compass computer cookie cooler\n",
      "couch cow crab crayon crocodile crown cruise ship cup diamond dishwasher diving board dog dolphin\n",
      "donut door dragon dresser drill drums duck dumbbell ear elbow elephant envelope eraser eye\n",
      "eyeglasses face fan feather fence finger fire hydrant fireplace firetruck fish flamingo flashlight\n",
      "flip flops floor lamp flower flying saucer foot fork frog frying pan garden hose garden giraffe\n",
      "goatee golf club grapes grass guitar hamburger hammer hand harp hat headphones hedgehog helicopter\n",
      "helmet hexagon hockey puck hockey stick horse hospital hot air balloon hot dog hot tub hourglass\n",
      "house plant house hurricane ice cream jacket jail kangaroo key keyboard knee knife ladder lantern\n",
      "laptop leaf leg light bulb lighter lighthouse lightning line lion lipstick lobster lollipop mailbox\n",
      "map marker matches megaphone mermaid microphone microwave monkey moon mosquito motorbike mountain\n",
      "mouse moustache mouth mug mushroom nail necklace nose ocean octagon octopus onion oven owl paint can\n",
      "paintbrush palm tree panda pants paper clip parachute parrot passport peanut pear peas pencil\n",
      "penguin piano pickup truck picture frame pig pillow pineapple pizza pliers police car pond pool\n",
      "popsicle postcard potato power outlet purse rabbit raccoon radio rain rainbow rake remote control\n",
      "rhinoceros rifle river roller coaster rollerskates sailboat sandwich saw saxophone school bus\n",
      "scissors scorpion screwdriver sea turtle see saw shark sheep shoe shorts shovel sink skateboard\n",
      "skull skyscraper sleeping bag smiley face snail snake snorkel snowflake snowman soccer ball sock\n",
      "speedboat spider spoon spreadsheet square squiggle squirrel stairs star steak stereo stethoscope\n",
      "stitches stop sign stove strawberry streetlight string bean submarine suitcase sun swan sweater\n",
      "swing set sword syringe t-shirt table teapot teddy-bear telephone\n"
     ]
    }
   ],
   "source": [
    "# Retrieve list of classes.\n",
    "\n",
    "def list_bucket(bucket, regexp='.*'):\n",
    "    \"\"\"Returns a (filtered) list of Keys in specified GCE bucket.\"\"\"\n",
    "    keys = []\n",
    "    fh = request.urlopen('https://storage.googleapis.com/%s' % bucket)\n",
    "    content = minidom.parseString(fh.read())\n",
    "    for e in content.getElementsByTagName('Contents'):\n",
    "        key = e.getElementsByTagName('Key')[0].firstChild.data\n",
    "        if re.match(regexp, key):\n",
    "            keys.append(key)\n",
    "    return keys\n",
    "\n",
    "all_ndjsons = list_bucket('quickdraw_dataset', '.*ndjson$')\n",
    "print('available: (%d)' % len(all_ndjsons))\n",
    "print('\\n'.join(textwrap.wrap(\n",
    "    ' '.join([key.split('/')[-1].split('.')[0] for key in all_ndjsons]),\n",
    "    width=100)))"
   ]
  },
  {
   "cell_type": "code",
   "execution_count": 3,
   "metadata": {
    "colab": {
     "autoexec": {
      "startup": false,
      "wait_interval": 0
     }
    },
    "colab_type": "code",
    "id": "MjaUHJ7zGeF3"
   },
   "outputs": [],
   "source": [
    "# Store all data locally in this directory.\n",
    "data_path = '../data'\n",
    "\n",
    "# Mini group of two animals.\n",
    "pets = ['cat', 'dog']\n",
    "\n",
    "# Somewhat larger group of zoo animals.\n",
    "zoo = ['elephant', 'giraffe', 'kangaroo', 'lion', 'monkey', 'panda',\n",
    "       'penguin', 'rhinoceros', 'tiger', 'zebra']\n",
    "\n",
    "# Even larger group of all animals.\n",
    "animals = ['bat', 'bird', 'butterfly', 'camel', 'cat', 'cow', 'crab',\n",
    "           'crocodile', 'dog', 'dolphin', 'duck', 'elephant', 'fish',\n",
    "           'frog', 'giraffe', 'hedgehog', 'horse', 'kangaroo', 'lion',\n",
    "           'lobster', 'monkey', 'mosquito', 'mouse', 'octopus', 'owl',\n",
    "           'panda', 'parrot', 'penguin', 'pig', 'rabbit', 'raccoon',\n",
    "           'rhinoceros', 'scorpion', 'sea turtle', 'shark', 'sheep',\n",
    "           'snail', 'spider', 'squirrel', 'teddy-bear', 'tiger',\n",
    "           'whale', 'zebra']\n",
    "\n",
    "# Create your own group -- the more classes you include the more challenging\n",
    "# the classification task will be...\n",
    "\n",
    "# Choose one of above groups for remainder of workshop.\n",
    "# Note: This will result in ~100MB of download per class.\n",
    "classes, classes_name = zoo, 'zoo'"
   ]
  },
  {
   "cell_type": "code",
   "execution_count": 4,
   "metadata": {
    "colab": {
     "autoexec": {
      "startup": false,
      "wait_interval": 0
     },
     "base_uri": "https://localhost:8080/",
     "height": 255
    },
    "colab_type": "code",
    "executionInfo": {
     "elapsed": 1704,
     "status": "ok",
     "timestamp": 1526711922143,
     "user": {
      "displayName": "Andreas Steiner",
      "photoUrl": "https://lh3.googleusercontent.com/a/default-user=s128",
      "userId": "115804658599019978174"
     },
     "user_tz": -120
    },
    "id": "tmzXx5skGeF5",
    "outputId": "8bc61bdb-f25b-4b09-b474-76e278fb18ba"
   },
   "outputs": [
    {
     "name": "stdout",
     "output_type": "stream",
     "text": [
      "\n",
      "10 classes:\n",
      "elephant 70.86 MB\n",
      "giraffe 58.27 MB\n",
      "kangaroo 96.06 MB\n",
      "lion 90.47 MB\n",
      "monkey 91.05 MB\n",
      "panda 97.04 MB\n",
      "penguin 137.90 MB\n",
      "rhinoceros 92.20 MB\n",
      "tiger 86.09 MB\n",
      "zebra 92.10 MB\n",
      "\n",
      "DONE :)\n"
     ]
    }
   ],
   "source": [
    "# Download above chosen group.\n",
    "\n",
    "def valid_ndjson(filename):\n",
    "    \"\"\"Checks presence + completeness of .ndjson file.\"\"\"\n",
    "    try:\n",
    "        json.loads(open(filename).readlines()[-1])\n",
    "        return True\n",
    "    except (ValueError, IOError):\n",
    "        return False\n",
    "\n",
    "def retrieve(bucket, key, filename):\n",
    "    \"\"\"Returns a file specified by its Key from a GCE bucket.\"\"\"\n",
    "    url = 'https://storage.googleapis.com/%s/%s' % (bucket, key)\n",
    "    if not os.path.isfile(filename):\n",
    "        request.urlretrieve(url=url, filename=filename)\n",
    "    while not valid_ndjson(filename):\n",
    "        print('*** Corrupted download (%.2f MB), retrying...' % (os.path.getsize(filename) / 2.**20))\n",
    "        request.urlretrieve(url=url, filename=filename)\n",
    "\n",
    "if not os.path.exists(data_path):\n",
    "    os.mkdir(data_path)\n",
    "\n",
    "print('\\n%d classes:' % len(classes))\n",
    "\n",
    "for name in classes:\n",
    "    print(name, end=' ')\n",
    "    dst = '%s/%s.ndjson' % (data_path, name)\n",
    "    retrieve('quickdraw_dataset', 'full/simplified/%s.ndjson' % name, dst)\n",
    "    print('%.2f MB' % (os.path.getsize(dst) / 2.**20))\n",
    "\n",
    "print('\\nDONE :)')"
   ]
  },
  {
   "cell_type": "markdown",
   "metadata": {
    "colab_type": "text",
    "id": "ZO6tp_h-GeF8"
   },
   "source": [
    "# 2 Inspect the data\n",
    "\n",
    "What is the format of the downloaded files?"
   ]
  },
  {
   "cell_type": "code",
   "execution_count": 5,
   "metadata": {
    "colab": {
     "autoexec": {
      "startup": false,
      "wait_interval": 0
     },
     "base_uri": "https://localhost:8080/",
     "height": 204
    },
    "colab_type": "code",
    "executionInfo": {
     "elapsed": 1890,
     "status": "ok",
     "timestamp": 1526711943608,
     "user": {
      "displayName": "Andreas Steiner",
      "photoUrl": "https://lh3.googleusercontent.com/a/default-user=s128",
      "userId": "115804658599019978174"
     },
     "user_tz": -120
    },
    "id": "Xb_2LxbMGeF_",
    "outputId": "efd14a7b-31f2-425c-9ab1-7f42dea79103"
   },
   "outputs": [
    {
     "name": "stdout",
     "output_type": "stream",
     "text": [
      "total 1867888\r\n",
      "-rw-r--r--   1 andreassteiner  staff   322B Dec 20 07:36 README.md\r\n",
      "drwxr-xr-x  33 andreassteiner  staff   1.1K Jan 21 15:56 \u001b[34mdataset_img\u001b[m\u001b[m\r\n",
      "drwxr-xr-x  33 andreassteiner  staff   1.1K Jan 22 12:10 \u001b[34mdataset_img_70k\u001b[m\u001b[m\r\n",
      "drwxr-xr-x  33 andreassteiner  staff   1.1K Jan 21 16:40 \u001b[34mdataset_stroke\u001b[m\u001b[m\r\n",
      "-rw-r--r--   1 andreassteiner  staff    71M Dec 19 07:43 elephant.ndjson\r\n",
      "-rw-r--r--   1 andreassteiner  staff    58M Dec 19 07:43 giraffe.ndjson\r\n",
      "-rw-r--r--   1 andreassteiner  staff    96M Dec 19 07:43 kangaroo.ndjson\r\n",
      "-rw-r--r--   1 andreassteiner  staff    90M Dec 19 07:44 lion.ndjson\r\n",
      "-rw-r--r--   1 andreassteiner  staff    91M Dec 19 07:44 monkey.ndjson\r\n",
      "-rw-r--r--   1 andreassteiner  staff    97M Dec 19 07:44 panda.ndjson\r\n",
      "-rw-r--r--   1 andreassteiner  staff   138M Dec 19 07:47 penguin.ndjson\r\n",
      "-rw-r--r--   1 andreassteiner  staff    92M Dec 19 07:47 rhinoceros.ndjson\r\n",
      "-rw-r--r--   1 andreassteiner  staff    86M Dec 19 07:48 tiger.ndjson\r\n",
      "-rw-r--r--   1 andreassteiner  staff    92M Dec 19 07:48 zebra.ndjson\r\n",
      "drwxr-xr-x  33 andreassteiner  staff   1.1K Jan 21 15:47 \u001b[34mzoo_img_01\u001b[m\u001b[m\r\n",
      "drwxr-xr-x  33 andreassteiner  staff   1.1K Dec 19 08:01 \u001b[34mzoo_img_bytes_70k\u001b[m\u001b[m\r\n",
      "drwxr-xr-x  33 andreassteiner  staff   1.1K Jan 21 15:38 \u001b[34mzoo_img_bytes_7k\u001b[m\u001b[m\r\n",
      "drwxr-xr-x  33 andreassteiner  staff   1.1K Jan 21 15:31 \u001b[34mzoo_img_int64_7k\u001b[m\u001b[m\r\n"
     ]
    }
   ],
   "source": [
    "# So let's check out the downloaded files...\n",
    "!ls -lh $data_path"
   ]
  },
  {
   "cell_type": "code",
   "execution_count": 6,
   "metadata": {
    "colab": {
     "autoexec": {
      "startup": false,
      "wait_interval": 0
     },
     "base_uri": "https://localhost:8080/",
     "height": 71
    },
    "colab_type": "code",
    "executionInfo": {
     "elapsed": 695,
     "status": "ok",
     "timestamp": 1526711986697,
     "user": {
      "displayName": "Andreas Steiner",
      "photoUrl": "https://lh3.googleusercontent.com/a/default-user=s128",
      "userId": "115804658599019978174"
     },
     "user_tz": -120
    },
    "id": "UCL46qhKGeGC",
    "outputId": "c7b92ba9-4bc4-4a89-9563-6506ab8cbb42"
   },
   "outputs": [
    {
     "name": "stdout",
     "output_type": "stream",
     "text": [
      "{\"word\":\"giraffe\",\"countrycode\":\"BR\",\"timestamp\":\"2017-01-26 17:23:19.3785 UTC\",\"recognized\":true,\"key_id\":\"5807561943023616\",\"drawing\":[[[25,9,0,1,13,35],[32,46,59,65,67,47]],[[64,47,36,25,25,41,53,66,69],[14,15,21,37,42,56,59,41,24]],[[20,39],[8,23]],[[51,52],[0,11]],[[56,46,46,55],[55,91,127,183]],[[74,70,73],[58,95,172]],[[53,79,100,126,149,150,138,131,96,47,39,40],[187,178,174,173,178,190,203,207,215,203,190,182]],[[54,36,22],[204,228,253]],[[73,49],[220,255]],[[118,119,132],[205,223,252]],[[142,143,159],[195,206,238]],[[143,161,165,169,166],[181,168,169,200,214]]]}\n",
      "{\"word\":\"giraffe\",\"countrycode\":\"FR\",\"timestamp\":\"2017-01-29 13:59:05.33086 UTC\",\"recognized\":true,\"key_id\":\"5747753718120448\",\"drawing\":[[[34,35,45,59,65,67,69,74,79,81,79,81,88,96,99,99,103,101,104,121,129,127,137,151,158,166,163,155,177,198,191,161,115,82,65,56,53,56],[101,249,246,231,218,184,179,179,181,186,220,244,245,230,215,183,199,225,249,255,251,187,203,242,246,225,207,186,148,132,129,133,117,98,85,71,54,20]],...\n"
     ]
    }
   ],
   "source": [
    "# What is the NDJSON file format?\n",
    "# Seems to be one JSON dictionary per line...\n",
    "path = sorted(tf.gfile.Glob(os.path.join(data_path, '*.ndjson')))[1]\n",
    "print(open(path).read()[:1000] + '...')"
   ]
  },
  {
   "cell_type": "code",
   "execution_count": 7,
   "metadata": {
    "colab": {
     "autoexec": {
      "startup": false,
      "wait_interval": 0
     },
     "base_uri": "https://localhost:8080/",
     "height": 34
    },
    "colab_type": "code",
    "executionInfo": {
     "elapsed": 775,
     "status": "ok",
     "timestamp": 1526711988215,
     "user": {
      "displayName": "Andreas Steiner",
      "photoUrl": "https://lh3.googleusercontent.com/a/default-user=s128",
      "userId": "115804658599019978174"
     },
     "user_tz": -120
    },
    "id": "f6m9rZzjGeGG",
    "outputId": "a08465e3-c396-4c91-e354-264e0c4390ff"
   },
   "outputs": [
    {
     "data": {
      "text/plain": [
       "dict_keys(['word', 'countrycode', 'timestamp', 'recognized', 'key_id', 'drawing'])"
      ]
     },
     "execution_count": 7,
     "metadata": {},
     "output_type": "execute_result"
    }
   ],
   "source": [
    "# Parse single line.\n",
    "data_json = json.loads(open(path).readline())\n",
    "data_json.keys()"
   ]
  },
  {
   "cell_type": "code",
   "execution_count": 8,
   "metadata": {
    "colab": {
     "autoexec": {
      "startup": false,
      "wait_interval": 0
     },
     "base_uri": "https://localhost:8080/",
     "height": 102
    },
    "colab_type": "code",
    "executionInfo": {
     "elapsed": 584,
     "status": "ok",
     "timestamp": 1526711990592,
     "user": {
      "displayName": "Andreas Steiner",
      "photoUrl": "https://lh3.googleusercontent.com/a/default-user=s128",
      "userId": "115804658599019978174"
     },
     "user_tz": -120
    },
    "id": "XKyZ2P4KGeGJ",
    "outputId": "9cd27693-eb09-4e24-c3e9-0622c11b7d3b"
   },
   "outputs": [
    {
     "name": "stdout",
     "output_type": "stream",
     "text": [
      "                word   ->   giraffe\n",
      "         countrycode   ->   BR\n",
      "           timestamp   ->   2017-01-26 17:23:19.3785 UTC\n",
      "          recognized   ->   True\n",
      "              key_id   ->   5807561943023616\n"
     ]
    }
   ],
   "source": [
    "# So we have some meta information...\n",
    "for k, v in data_json.items():\n",
    "    if k != 'drawing':\n",
    "        print('%20s   ->   %s' % (k, v))"
   ]
  },
  {
   "cell_type": "code",
   "execution_count": 9,
   "metadata": {
    "colab": {
     "autoexec": {
      "startup": false,
      "wait_interval": 0
     },
     "base_uri": "https://localhost:8080/",
     "height": 221
    },
    "colab_type": "code",
    "executionInfo": {
     "elapsed": 815,
     "status": "ok",
     "timestamp": 1526711992722,
     "user": {
      "displayName": "Andreas Steiner",
      "photoUrl": "https://lh3.googleusercontent.com/a/default-user=s128",
      "userId": "115804658599019978174"
     },
     "user_tz": -120
    },
    "id": "S8uCmlQ_GeGN",
    "outputId": "1a91ba95-ee52-49b8-8cc9-1a1cd13f51c9"
   },
   "outputs": [
    {
     "data": {
      "text/plain": [
       "[(2, 6),\n",
       " (2, 9),\n",
       " (2, 2),\n",
       " (2, 2),\n",
       " (2, 4),\n",
       " (2, 3),\n",
       " (2, 12),\n",
       " (2, 3),\n",
       " (2, 2),\n",
       " (2, 3),\n",
       " (2, 3),\n",
       " (2, 5)]"
      ]
     },
     "execution_count": 9,
     "metadata": {},
     "output_type": "execute_result"
    }
   ],
   "source": [
    "# ...and the actual drawing.\n",
    "drawing = data_json['drawing']\n",
    "# The drawing consists of a series of strokes:\n",
    "[np.array(stroke).shape for stroke in drawing]"
   ]
  },
  {
   "cell_type": "code",
   "execution_count": 10,
   "metadata": {
    "colab": {
     "autoexec": {
      "startup": false,
      "wait_interval": 0
     },
     "base_uri": "https://localhost:8080/",
     "height": 265
    },
    "colab_type": "code",
    "executionInfo": {
     "elapsed": 935,
     "status": "ok",
     "timestamp": 1526711998260,
     "user": {
      "displayName": "Andreas Steiner",
      "photoUrl": "https://lh3.googleusercontent.com/a/default-user=s128",
      "userId": "115804658599019978174"
     },
     "user_tz": -120
    },
    "id": "bb7XhpB4GeGQ",
    "outputId": "cde3993a-35a5-4d79-8a81-2b173314805d"
   },
   "outputs": [
    {
     "data": {
      "image/png": "[encoded data removed]",
      "text/plain": [
       "<matplotlib.figure.Figure at 0x18164f9fd0>"
      ]
     },
     "metadata": {},
     "output_type": "display_data"
    }
   ],
   "source": [
    "# Draw the image -- the strokes all have have shape (2, n)\n",
    "# so the first index seems to be x/y coordinate:\n",
    "for stroke in drawing:\n",
    "    pyplot.plot(np.array(stroke[0]), -np.array(stroke[1]))\n",
    "# Would YOU recognize this drawing successfully?"
   ]
  },
  {
   "cell_type": "code",
   "execution_count": 11,
   "metadata": {
    "colab": {
     "autoexec": {
      "startup": false,
      "wait_interval": 0
     },
     "base_uri": "https://localhost:8080/",
     "height": 68
    },
    "colab_type": "code",
    "executionInfo": {
     "elapsed": 628,
     "status": "ok",
     "timestamp": 1526712011634,
     "user": {
      "displayName": "Andreas Steiner",
      "photoUrl": "https://lh3.googleusercontent.com/a/default-user=s128",
      "userId": "115804658599019978174"
     },
     "user_tz": -120
    },
    "id": "1wwxryjLGeGU",
    "outputId": "d04b747b-a73d-4875-ffca-12ea6ec84840"
   },
   "outputs": [
    {
     "name": "stdout",
     "output_type": "stream",
     "text": [
      "loading some \"elephant\"...\n",
      "CPU times: user 5.81 ms, sys: 1.76 ms, total: 7.57 ms\n",
      "Wall time: 6.15 ms\n"
     ]
    }
   ],
   "source": [
    "%%time\n",
    "# Some more code to load many sketches at once.\n",
    "# Let's ignore the difficult \"unrecognized\" sketches for now...\n",
    "# (i.e. unrecognized by the official quickdraw classifier)\n",
    "\n",
    "def convert(line):\n",
    "    \"\"\"Converts single line to JSON + converts 'drawing' to list of np.array.\"\"\"\n",
    "    d = json.loads(line)\n",
    "    d['drawing'] = [np.array(stroke) for stroke in d['drawing']]\n",
    "    return d\n",
    "\n",
    "def loaditer(name, unrecognized=False):\n",
    "    \"\"\"Returns iterable of drawings in specified file.\n",
    "\n",
    "    Args:\n",
    "      name: Name of the downloaded object (e.g. \"elephant\").\n",
    "      unrecognized: Whether to include drawings that were not recognized\n",
    "          by Google AI (i.e. the hard ones).\n",
    "    \"\"\"\n",
    "    for line in open('%s/%s.ndjson' % (data_path, name)):\n",
    "        d = convert(line)\n",
    "        if d['recognized'] or unrecognized:\n",
    "            yield d\n",
    "\n",
    "def loadn(name, n, unrecognized=False):\n",
    "    \"\"\"Returns list of drawings.\n",
    "\n",
    "    Args:\n",
    "      name: Name of the downloaded object (e.g. \"elephant\").\n",
    "      n: Number of drawings to load.\n",
    "      unrecognized: Whether to include drawings that were not recognized\n",
    "          by Google AI (i.e. the hard ones).\n",
    "    \"\"\"\n",
    "    it = loaditer(name, unrecognized=unrecognized)\n",
    "    return list(itertools.islice(it, 0, n))\n",
    "\n",
    "print('loading some \"%s\"...' % classes[0])\n",
    "sample = loadn(classes[0], 100)"
   ]
  },
  {
   "cell_type": "code",
   "execution_count": 12,
   "metadata": {
    "colab": {
     "autoexec": {
      "startup": false,
      "wait_interval": 0
     },
     "base_uri": "https://localhost:8080/",
     "height": 592
    },
    "colab_type": "code",
    "executionInfo": {
     "elapsed": 1657,
     "status": "ok",
     "timestamp": 1526712021611,
     "user": {
      "displayName": "Andreas Steiner",
      "photoUrl": "https://lh3.googleusercontent.com/a/default-user=s128",
      "userId": "115804658599019978174"
     },
     "user_tz": -120
    },
    "id": "-jzTKBt5GeGY",
    "outputId": "b3ace84a-7ec1-4251-c4a2-e349d82229a6"
   },
   "outputs": [
    {
     "data": {
      "image/png": "[encoded data removed]",
      "text/plain": [
       "<matplotlib.figure.Figure at 0x181689b5f8>"
      ]
     },
     "metadata": {},
     "output_type": "display_data"
    }
   ],
   "source": [
    "# Some more drawings...\n",
    "pyplot.figure(figsize=(10, 10))\n",
    "n = 3\n",
    "for x in range(n):\n",
    "    for y in range(n):\n",
    "        i = x * n + y\n",
    "        pyplot.subplot(n, n, i + 1)\n",
    "        for stroke in sample[i]['drawing']:\n",
    "            pyplot.plot(np.array(stroke[0]), -np.array(stroke[1]))"
   ]
  },
  {
   "cell_type": "markdown",
   "metadata": {
    "colab_type": "text",
    "id": "DF93HB1aGeGb"
   },
   "source": [
    "# 3 Rasterize\n",
    "\n",
    "Idea: After converting the raw drawing data into rasterized images, we can\n",
    "use [MNIST](https://www.tensorflow.org/get_started/mnist/beginners)-like\n",
    "image processing to classify the drawings."
   ]
  },
  {
   "cell_type": "code",
   "execution_count": 13,
   "metadata": {
    "colab": {
     "autoexec": {
      "startup": false,
      "wait_interval": 0
     },
     "base_uri": "https://localhost:8080/",
     "height": 34
    },
    "colab_type": "code",
    "executionInfo": {
     "elapsed": 888,
     "status": "ok",
     "timestamp": 1526712032657,
     "user": {
      "displayName": "Andreas Steiner",
      "photoUrl": "https://lh3.googleusercontent.com/a/default-user=s128",
      "userId": "115804658599019978174"
     },
     "user_tz": -120
    },
    "id": "AVsC-4hcGeGc",
    "outputId": "343026f2-aa18-4d3c-842f-635fba97a3ea"
   },
   "outputs": [
    {
     "name": "stdout",
     "output_type": "stream",
     "text": [
      "Overwriting _derived/1_json_to_img.py\n"
     ]
    }
   ],
   "source": [
    "%%writefile _derived/1_json_to_img.py\n",
    "# (Written into separate file for sharing between notebooks.)\n",
    "\n",
    "# Function that converts drawing (specified by individual strokes)\n",
    "# to a rendered black/white image.\n",
    "\n",
    "def json_to_img(drawing, img_sz=64, lw=3, maximize=True):\n",
    "    img = Image.new('L', (img_sz, img_sz))\n",
    "    draw = ImageDraw.Draw(img)\n",
    "    lines = np.array([\n",
    "        stroke[0:2, i:i+2]\n",
    "        for stroke in drawing['drawing']\n",
    "        for i in range(stroke.shape[1] - 1)\n",
    "    ], dtype=np.float32)\n",
    "    if maximize:\n",
    "        for i in range(2):\n",
    "            min_, max_ = lines[:,i,:].min() * 0.95, lines[:,i,:].max() * 1.05\n",
    "            lines[:,i,:] = (lines[:,i,:] - min_) / max(max_ - min_, 1)\n",
    "    else:\n",
    "        lines /= 1024\n",
    "    for line in lines:\n",
    "        draw.line(tuple(line.T.reshape((-1,)) * img_sz), fill='white', width=lw)\n",
    "    return img"
   ]
  },
  {
   "cell_type": "code",
   "execution_count": 14,
   "metadata": {
    "colab": {
     "autoexec": {
      "startup": false,
      "wait_interval": 0
     },
     "base_uri": "https://localhost:8080/",
     "height": 661
    },
    "colab_type": "code",
    "executionInfo": {
     "elapsed": 947,
     "status": "ok",
     "timestamp": 1526712065035,
     "user": {
      "displayName": "Andreas Steiner",
      "photoUrl": "https://lh3.googleusercontent.com/a/default-user=s128",
      "userId": "115804658599019978174"
     },
     "user_tz": -120
    },
    "id": "K4GzMB12GeGf",
    "outputId": "d781be49-0011-4d1f-a034-3e9b4f820084"
   },
   "outputs": [
    {
     "data": {
      "text/html": [
       "<img src=\"data:image/png;base64,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\">"
      ],
      "text/plain": [
       "<IPython.core.display.HTML object>"
      ]
     },
     "metadata": {},
     "output_type": "display_data"
    },
    {
     "data": {
      "text/plain": [
       "<matplotlib.figure.Figure at 0x1816956ba8>"
      ]
     },
     "metadata": {},
     "output_type": "display_data"
    }
   ],
   "source": [
    "# (Load code from previous cell -- make sure to have executed above cell first.)\n",
    "%run -i _derived/1_json_to_img.py\n",
    "\n",
    "# Show some examples.\n",
    "\n",
    "def showimg(img):\n",
    "    if isinstance(img, np.ndarray):\n",
    "        img = Image.fromarray(img, 'L')\n",
    "    b = io.BytesIO()\n",
    "    img.convert('RGB').save(b, format='png')\n",
    "    enc = base64.b64encode(b.getvalue()).decode('utf-8')\n",
    "    display.display(display.HTML(\n",
    "        '<img src=\"data:image/png;base64,%s\">' % enc))\n",
    "\n",
    "# Fetch some images + shuffle order.\n",
    "rows, cols = 10, 10\n",
    "n_per_class = rows * cols // len(classes) + 1\n",
    "drawings_matrix = [loadn(name, rows*cols) for name in classes]\n",
    "drawings_list = functools.reduce(lambda x, y: x + y, drawings_matrix, [])\n",
    "drawings_list = np.random.permutation(drawings_list)\n",
    "\n",
    "# Create mosaic of rendered images.\n",
    "lw = 4\n",
    "img_sz = 64\n",
    "tableau = np.zeros((img_sz * rows, img_sz * cols), dtype=np.uint8)\n",
    "for y in range(rows):\n",
    "    for x in range(cols):\n",
    "        i = y * rows + x\n",
    "        img = json_to_img(drawings_list[i], img_sz=img_sz, lw=lw, maximize=True)\n",
    "        tableau[y*img_sz:(y+1)*img_sz, x*img_sz:(x+1)*img_sz] = np.asarray(img)\n",
    "\n",
    "showimg(tableau);"
   ]
  },
  {
   "cell_type": "markdown",
   "metadata": {
    "colab_type": "text",
    "id": "gW40he1tGeGi"
   },
   "source": [
    "# 4 tf.train.Example data format\n",
    "\n",
    "Tensorflow's \"native\" format for data storage is the `tf.train.Example`\n",
    "[protocol buffer](https://en.wikipedia.org/wiki/Protocol_Buffers).\n",
    "\n",
    "In this section we briefly explore the API needed to access the data\n",
    "inside the `tf.train.Example` protocol buffer. It's **not necessary** to read\n",
    "through the\n",
    "[Python API documentation](https://developers.google.com/protocol-buffers/docs/pythontutorial)."
   ]
  },
  {
   "cell_type": "code",
   "execution_count": 15,
   "metadata": {
    "colab": {
     "autoexec": {
      "startup": false,
      "wait_interval": 0
     },
     "base_uri": "https://localhost:8080/",
     "height": 34
    },
    "colab_type": "code",
    "executionInfo": {
     "elapsed": 659,
     "status": "ok",
     "timestamp": 1526712074035,
     "user": {
      "displayName": "Andreas Steiner",
      "photoUrl": "https://lh3.googleusercontent.com/a/default-user=s128",
      "userId": "115804658599019978174"
     },
     "user_tz": -120
    },
    "id": "5Bv_ON7mGeGi",
    "outputId": "473b3caa-89d8-4085-d1f6-4c21a7ed0348"
   },
   "outputs": [
    {
     "name": "stdout",
     "output_type": "stream",
     "text": [
      "\n"
     ]
    }
   ],
   "source": [
    "# Create a new (empty) instance.\n",
    "example = tf.train.Example()\n",
    "# (empty example will print nothing)\n",
    "print(example)"
   ]
  },
  {
   "cell_type": "code",
   "execution_count": 16,
   "metadata": {
    "colab": {
     "autoexec": {
      "startup": false,
      "wait_interval": 0
     },
     "base_uri": "https://localhost:8080/",
     "height": 408
    },
    "colab_type": "code",
    "executionInfo": {
     "elapsed": 758,
     "status": "ok",
     "timestamp": 1526712088161,
     "user": {
      "displayName": "Andreas Steiner",
      "photoUrl": "https://lh3.googleusercontent.com/a/default-user=s128",
      "userId": "115804658599019978174"
     },
     "user_tz": -120
    },
    "id": "BB8g-Tb1GeGn",
    "outputId": "2ae5f571-e742-47a4-c123-2f56bad6fd6e"
   },
   "outputs": [
    {
     "name": "stdout",
     "output_type": "stream",
     "text": [
      "features {\n",
      "  feature {\n",
      "    key: \"adversaries\"\n",
      "    value {\n",
      "      bytes_list {\n",
      "        value: \"Alice\"\n",
      "        value: \"Bob\"\n",
      "      }\n",
      "    }\n",
      "  }\n",
      "  feature {\n",
      "    key: \"magic_numbers\"\n",
      "    value {\n",
      "      float_list {\n",
      "        value: 3.1415998935699463\n",
      "        value: 2.7183001041412354\n",
      "        value: 1.414199948310852\n",
      "        value: 1.6180000305175781\n",
      "      }\n",
      "    }\n",
      "  }\n",
      "}\n",
      "\n"
     ]
    }
   ],
   "source": [
    "# An example contains a map from feature name to \"Feature\".\n",
    "# Every \"Feature\" contains a list of elements of the same\n",
    "# type, which is one of:\n",
    "# - bytes_list (similar to Python's \"str\")\n",
    "# - float_list (float number)\n",
    "# - int64_list (integer number)\n",
    "\n",
    "# These values can be accessed as follows (no need to understand\n",
    "# details):\n",
    "\n",
    "# Add float value \"3.1416\" to feature \"magic_numbers\"\n",
    "example.features.feature['magic_numbers'].float_list.value.append(3.1416)\n",
    "# Add some more values to the float list \"magic_numbers\".\n",
    "example.features.feature['magic_numbers'].float_list.value.extend([2.7183, 1.4142, 1.6180])\n",
    "\n",
    "### YOUR ACTION REQUIRED:\n",
    "# Create a second feature named \"adversaries\" and add the elements\n",
    "# \"Alice\" and \"Bob\".\n",
    "example.features.feature['adversaries'].bytes_list.value.extend([b'Alice', b'Bob']) #example.features.feature['adversaries'].\n",
    "\n",
    "# This will now print a serialized representation of our protocol buffer\n",
    "# with features \"magic_numbers\" and \"adversaries\" set...\n",
    "print(example)\n",
    "\n",
    "# .. et voila : that's all you need to know about protocol buffers\n",
    "# for this workshop."
   ]
  },
  {
   "cell_type": "markdown",
   "metadata": {
    "colab_type": "text",
    "id": "33imDs6YGeGq"
   },
   "source": [
    "# 5 Create dataset\n",
    "\n",
    "Now let's create a \"dataset\" of `tf.train.Example`\n",
    "[protocol buffers](https://developers.google.com/protocol-buffers/) (\"protos\").\n",
    "\n",
    "A single example contains all the information for a drawing (i.e. rasterized\n",
    "image, label, and meta information).\n",
    "\n",
    "A dataset consists of non-overlapping sets of examples that will be used for\n",
    "training and evaluation of the classifier (the \"test\" set will be used for the\n",
    "final evaluation). Because these files can quickly become very large, we\n",
    "\"shard\" them into multiple smaller files of equal size."
   ]
  },
  {
   "cell_type": "code",
   "execution_count": 17,
   "metadata": {
    "colab": {
     "autoexec": {
      "startup": false,
      "wait_interval": 0
     },
     "base_uri": "https://localhost:8080/",
     "height": 187
    },
    "colab_type": "code",
    "executionInfo": {
     "elapsed": 63391,
     "status": "ok",
     "timestamp": 1526712158411,
     "user": {
      "displayName": "Andreas Steiner",
      "photoUrl": "https://lh3.googleusercontent.com/a/default-user=s128",
      "userId": "115804658599019978174"
     },
     "user_tz": -120
    },
    "id": "Ef_i5QFWGeGq",
    "outputId": "f06f5cfd-85bc-4afd-d341-c83c82105891"
   },
   "outputs": [
    {
     "name": "stdout",
     "output_type": "stream",
     "text": [
      "elephant 126969 recognized 104986\n",
      "giraffe 127182 recognized 122396\n",
      "kangaroo 174470 recognized 152511\n",
      "lion 120949 recognized 98976\n",
      "monkey 127633 recognized 105650\n",
      "panda 113613 recognized 94814\n",
      "penguin 253791 recognized 231826\n",
      "rhinoceros 188484 recognized 166539\n",
      "tiger 121067 recognized 110177\n",
      "zebra 144608 recognized 127159\n"
     ]
    }
   ],
   "source": [
    "# Let's first check how many [recognized=True] examples we have in each class.\n",
    "# Depending on your choice of classes you could generate up to 200k examples...\n",
    "for name in classes:\n",
    "    print(name, len(list(open('%s/%s.ndjson' % (data_path, name)))), 'recognized', len(list(loaditer(name))))"
   ]
  },
  {
   "cell_type": "code",
   "execution_count": 18,
   "metadata": {
    "colab": {
     "autoexec": {
      "startup": false,
      "wait_interval": 0
     }
    },
    "colab_type": "code",
    "id": "r4h9W4JvGeGt"
   },
   "outputs": [],
   "source": [
    "# Helper code to create sharded recordio files.\n",
    "# (No need to read through this.)\n",
    "\n",
    "# Well... Since you continue to read through this cell, I could as\n",
    "# well explain in more detail what it is about :-)\n",
    "# Because we work with large amounts of data, we will create \"sharded\"\n",
    "# files, that is, we split a single dataset into a number of files, like\n",
    "# train-00000-of-00005, ..., train-00004-of-00005 (if we're using 5 shards).\n",
    "# This way we have smaller individual files, and we can also easily access\n",
    "# e.g. 20% of all data, or have 5 threads reading through the data\n",
    "# simultaneously.\n",
    "\n",
    "# The code in this cell simply takes a list of iterators and then\n",
    "# randomly distributes the values returned by these iterators into sharded\n",
    "# datasets (e.g. a train/eval/test split).\n",
    "\n",
    "def rand_key(counts):\n",
    "    \"\"\"Returns a random key from \"counts\", using values as distribution.\"\"\"\n",
    "    r = random.randint(0, sum(counts.values()))\n",
    "    for key, count in counts.items():\n",
    "        if r > count or count == 0:\n",
    "            r -= count\n",
    "        else:\n",
    "            counts[key] -= 1\n",
    "            return key\n",
    "\n",
    "def make_sharded_files(make_example, path, classes, iters, splits,\n",
    "                       shards=10, overwrite=False, report_dt=10):\n",
    "    \"\"\"Create sharded files from \"iters\".\n",
    "\n",
    "    Args:\n",
    "      make_example: Converts object returned by elements of \"iters\"\n",
    "          to tf.train.Example() proto.\n",
    "      path: Directory that will contain recordio files.\n",
    "      classes: Names of classes, will be written to \"labels.txt\".\n",
    "      splits: Dictionary mapping filename to number of examples (of\n",
    "          every class).\n",
    "      shards: Number of files to be created per split.\n",
    "      overwrite: Whether a pre-existing directory should be overwritten.\n",
    "      report_dt: Number of seconds between status updates (0=no updates).\n",
    "\n",
    "    Returns:\n",
    "      Total number of examples written to disk (this should be equal to\n",
    "      the number of classes times the sum of the number of examples of\n",
    "      all the splits).\n",
    "    \"\"\"\n",
    "    assert len(iters) == len(classes)\n",
    "    if not os.path.exists(path):\n",
    "        os.makedirs(path)\n",
    "    paths = {\n",
    "        split: ['%s/%s-%05d-of-%05d' % (path, split, i, shards)\n",
    "                for i in range(shards)]\n",
    "        for split in splits\n",
    "    }\n",
    "    assert overwrite or not os.path.exists(paths.values()[0][0])\n",
    "    writers = {\n",
    "        split: [tf.python_io.TFRecordWriter(ps[i]) for i in range(shards)]\n",
    "        for split, ps in paths.items()\n",
    "    }\n",
    "    t0 = time.time()\n",
    "    n = sum(splits.values())\n",
    "    examples = 0\n",
    "    for i in range(n):\n",
    "        split = rand_key(splits)\n",
    "        writer = writers[split][splits[split] % shards]\n",
    "        for j in range(len(classes)):\n",
    "            example = make_example(j, next(iters[j]))\n",
    "            writer.write(example.SerializeToString())\n",
    "            examples += 1\n",
    "        remaining = sum(splits.values())\n",
    "        if report_dt > 0 and time.time() - t0 > report_dt:\n",
    "            print('processed %d/%d (%.2f%%)' % (i, n, 100. * i / n))\n",
    "            t0 = time.time()\n",
    "    for split in splits:\n",
    "        for writer in writers[split]:\n",
    "            writer.close()\n",
    "    with open('%s/labels.txt' % path, 'w') as f:\n",
    "        f.write('\\n'.join(classes))\n",
    "    return examples"
   ]
  },
  {
   "cell_type": "code",
   "execution_count": 19,
   "metadata": {
    "colab": {
     "autoexec": {
      "startup": false,
      "wait_interval": 0
     },
     "base_uri": "https://localhost:8080/",
     "height": 34
    },
    "colab_type": "code",
    "executionInfo": {
     "elapsed": 2012,
     "status": "ok",
     "timestamp": 1526712205738,
     "user": {
      "displayName": "Andreas Steiner",
      "photoUrl": "https://lh3.googleusercontent.com/a/default-user=s128",
      "userId": "115804658599019978174"
     },
     "user_tz": -120
    },
    "id": "uPF9vIipGeGv",
    "outputId": "23847ecf-84c7-4e15-9346-db7b7b1dba95"
   },
   "outputs": [
    {
     "name": "stdout",
     "output_type": "stream",
     "text": [
      "Overwriting _derived/1_make_example_img.py\n"
     ]
    }
   ],
   "source": [
    "%%writefile _derived/1_make_example_img.py\n",
    "# (Written into separate file for sharing between notebooks.)\n",
    "\n",
    "# Convert drawing tf.train.Example proto.\n",
    "# Uses json_to_img() from previous cell to create raster image.\n",
    "\n",
    "def make_example_img(label, drawing):\n",
    "    example = tf.train.Example()\n",
    "    example.features.feature['label'].int64_list.value.append(label)\n",
    "    img_64 = np.asarray(json_to_img(drawing, img_sz=64, lw=4, maximize=True)).reshape(-1)\n",
    "    example.features.feature['img_64'].int64_list.value.extend(img_64)\n",
    "    example.features.feature['countrycode'].bytes_list.value.append(drawing['countrycode'].encode())\n",
    "    example.features.feature['recognized'].int64_list.value.append(drawing['recognized'])\n",
    "    example.features.feature['word'].bytes_list.value.append(drawing['word'].encode())\n",
    "    ts = drawing['timestamp']\n",
    "    ts = time.mktime(time.strptime(ts[:ts.index('.')], '%Y-%m-%d %H:%M:%S'))\n",
    "    example.features.feature['timestamp'].int64_list.value.append(int(ts))\n",
    "    example.features.feature['key_id'].int64_list.value.append(int(drawing['key_id']))\n",
    "    return example"
   ]
  },
  {
   "cell_type": "code",
   "execution_count": 20,
   "metadata": {
    "colab": {
     "autoexec": {
      "startup": false,
      "wait_interval": 0
     },
     "base_uri": "https://localhost:8080/",
     "height": 238
    },
    "colab_type": "code",
    "executionInfo": {
     "elapsed": 113464,
     "status": "ok",
     "timestamp": 1526712347649,
     "user": {
      "displayName": "Andreas Steiner",
      "photoUrl": "https://lh3.googleusercontent.com/a/default-user=s128",
      "userId": "115804658599019978174"
     },
     "user_tz": -120
    },
    "id": "ksR9Hw0DGeGy",
    "outputId": "d25b67d7-50dd-40fb-b7fc-4b4deb219013"
   },
   "outputs": [
    {
     "name": "stdout",
     "output_type": "stream",
     "text": [
      "processed 512/7000 (7.31%)\n",
      "processed 1056/7000 (15.09%)\n",
      "processed 1684/7000 (24.06%)\n",
      "processed 2303/7000 (32.90%)\n",
      "processed 2929/7000 (41.84%)\n",
      "processed 3510/7000 (50.14%)\n",
      "processed 4047/7000 (57.81%)\n",
      "processed 4594/7000 (65.63%)\n",
      "processed 5109/7000 (72.99%)\n",
      "processed 5660/7000 (80.86%)\n",
      "processed 6244/7000 (89.20%)\n",
      "processed 6814/7000 (97.34%)\n",
      "stored data to \"../data/dataset_img\"\n",
      "generated 70000 examples in 123 seconds\n"
     ]
    }
   ],
   "source": [
    "# (Load code from previous cell -- make sure to have executed above cell first.)\n",
    "%run -i _derived/1_make_example_img.py\n",
    "\n",
    "# Create the (rasterized) dataset.\n",
    "\n",
    "path = '%s/dataset_img' % data_path\n",
    "t0 = time.time()\n",
    "n = make_sharded_files(\n",
    "    make_example=make_example_img,\n",
    "    path=path,\n",
    "    classes=classes,\n",
    "    iters=[loaditer(name) for name in classes],\n",
    "    # Note: We only generate few examples here so you won't be\n",
    "    # blocked for too long while waiting for this cell to finish.\n",
    "    # You can re-run the cell with larger values (don't forget to\n",
    "    # update \"path\" above) in the background to get a larger\n",
    "    # dataset...\n",
    "    splits=dict(train=5000, eval=1000, test=1000),\n",
    "    overwrite=True,\n",
    ")\n",
    "\n",
    "print('stored data to \"%s\"' % path)\n",
    "print('generated %d examples in %d seconds' % (n, time.time() - t0))"
   ]
  },
  {
   "cell_type": "markdown",
   "metadata": {
    "colab_type": "text",
    "id": "s-MmsFVFGeG1"
   },
   "source": [
    "# 6 Prepare dataset for RNN – bonus!\n",
    "\n",
    "This section creates another dataset of example protos that contain the raw\n",
    "stroke data, suitable for usage with a recurrent neural network.\n",
    "\n",
    "Note that later notebooks will have a \"bonus\" section that uses this dataset,\n",
    "but the \"non-bonus\" parts can be worked through without executing below\n",
    "cells..."
   ]
  },
  {
   "cell_type": "code",
   "execution_count": 21,
   "metadata": {
    "colab": {
     "autoexec": {
      "startup": false,
      "wait_interval": 0
     },
     "base_uri": "https://localhost:8080/",
     "height": 34
    },
    "colab_type": "code",
    "executionInfo": {
     "elapsed": 816,
     "status": "ok",
     "timestamp": 1526712527267,
     "user": {
      "displayName": "Andreas Steiner",
      "photoUrl": "https://lh3.googleusercontent.com/a/default-user=s128",
      "userId": "115804658599019978174"
     },
     "user_tz": -120
    },
    "id": "c1SCR8h1GeG2",
    "outputId": "1c2f568a-5159-498e-c418-54ada0ebfa59"
   },
   "outputs": [
    {
     "name": "stdout",
     "output_type": "stream",
     "text": [
      "Overwriting _derived/1_json_to_stroke.py\n"
     ]
    }
   ],
   "source": [
    "%%writefile _derived/1_json_to_stroke.py\n",
    "# (Written into separate file for sharing between notebooks.)\n",
    "\n",
    "# Convert stroke coordinates into normalized relative coordinates,\n",
    "# one single list, and add a \"third dimension\" that indicates when\n",
    "# a new stroke starts.\n",
    "\n",
    "def json_to_stroke(d):\n",
    "    norm = lambda x: (x - x.min()) / max(1, (x.max() - x.min()))\n",
    "    xy = np.concatenate([np.array(s, dtype=np.float32) for s in d['drawing']], axis=1)\n",
    "    z = np.zeros(xy.shape[1])\n",
    "    if len(d['drawing']) > 1:\n",
    "        z[np.cumsum(np.array(list(map(lambda x: x.shape[1], d['drawing'][:-1]))))] = 1\n",
    "    dxy = np.diff(norm(xy))\n",
    "    return np.concatenate([dxy, z.reshape((1, -1))[:, 1:]])"
   ]
  },
  {
   "cell_type": "code",
   "execution_count": 22,
   "metadata": {
    "colab": {
     "autoexec": {
      "startup": false,
      "wait_interval": 0
     },
     "base_uri": "https://localhost:8080/",
     "height": 284
    },
    "colab_type": "code",
    "executionInfo": {
     "elapsed": 1806,
     "status": "ok",
     "timestamp": 1526712532357,
     "user": {
      "displayName": "Andreas Steiner",
      "photoUrl": "https://lh3.googleusercontent.com/a/default-user=s128",
      "userId": "115804658599019978174"
     },
     "user_tz": -120
    },
    "id": "QC1U8kZ8GeG4",
    "outputId": "5e30442b-9dac-495e-d6d7-0431f8213374"
   },
   "outputs": [
    {
     "data": {
      "text/plain": [
       "[<matplotlib.lines.Line2D at 0x104ea6128>]"
      ]
     },
     "execution_count": 22,
     "metadata": {},
     "output_type": "execute_result"
    },
    {
     "data": {
      "image/png": "[encoded data removed]",
      "text/plain": [
       "<matplotlib.figure.Figure at 0x1816a60a20>"
      ]
     },
     "metadata": {},
     "output_type": "display_data"
    }
   ],
   "source": [
    "# (Load code from previous cell -- make sure to have executed above cell first.)\n",
    "%run -i _derived/1_json_to_stroke.py\n",
    "\n",
    "# Visualize / control output of json_to_stroke().\n",
    "\n",
    "stroke = json_to_stroke(sample[3])\n",
    "# First 2 dimensions are normalized dx/dy coordinates\n",
    "# third dimension indicates \"new stroke\".\n",
    "xy = stroke[:2, :].cumsum(axis=1)\n",
    "pyplot.plot(*xy)\n",
    "pxy = xy[:, stroke[2] != 0]\n",
    "pyplot.plot(pxy[0], pxy[1], 'ro')"
   ]
  },
  {
   "cell_type": "code",
   "execution_count": 23,
   "metadata": {
    "colab": {
     "autoexec": {
      "startup": false,
      "wait_interval": 0
     },
     "base_uri": "https://localhost:8080/",
     "height": 34
    },
    "colab_type": "code",
    "executionInfo": {
     "elapsed": 2358,
     "status": "ok",
     "timestamp": 1526712537329,
     "user": {
      "displayName": "Andreas Steiner",
      "photoUrl": "https://lh3.googleusercontent.com/a/default-user=s128",
      "userId": "115804658599019978174"
     },
     "user_tz": -120
    },
    "id": "rxzZZyR9GeG8",
    "outputId": "45632b85-cb04-4b3d-90bd-4c14d909f5c5"
   },
   "outputs": [
    {
     "name": "stdout",
     "output_type": "stream",
     "text": [
      "Overwriting _derived/1_make_example_stroke.py\n"
     ]
    }
   ],
   "source": [
    "%%writefile _derived/1_make_example_stroke.py\n",
    "# (Written into separate file for sharing between notebooks.)\n",
    "\n",
    "# Convert drawing tf.train.Example proto.\n",
    "# Uses json_to_stroke() from previous cell to create raster image.\n",
    "\n",
    "def make_example_stroke(label, drawing):\n",
    "    example = tf.train.Example()\n",
    "    example.features.feature['label'].int64_list.value.append(label)\n",
    "    stroke = json_to_stroke(drawing)\n",
    "    example.features.feature['stroke_x'].float_list.value.extend(stroke[0, :])\n",
    "    example.features.feature['stroke_y'].float_list.value.extend(stroke[1, :])\n",
    "    example.features.feature['stroke_z'].float_list.value.extend(stroke[2, :])\n",
    "    example.features.feature['stroke_len'].int64_list.value.append(stroke.shape[1])\n",
    "    example.features.feature['countrycode'].bytes_list.value.append(drawing['countrycode'].encode())\n",
    "    example.features.feature['recognized'].int64_list.value.append(drawing['recognized'])\n",
    "    example.features.feature['word'].bytes_list.value.append(drawing['word'].encode())\n",
    "    ts = drawing['timestamp']\n",
    "    ts = time.mktime(time.strptime(ts[:ts.index('.')], '%Y-%m-%d %H:%M:%S'))\n",
    "    example.features.feature['timestamp'].int64_list.value.append(int(ts))\n",
    "    example.features.feature['key_id'].int64_list.value.append(int(drawing['key_id']))\n",
    "    return example"
   ]
  },
  {
   "cell_type": "code",
   "execution_count": 24,
   "metadata": {
    "colab": {
     "autoexec": {
      "startup": false,
      "wait_interval": 0
     },
     "base_uri": "https://localhost:8080/",
     "height": 425
    },
    "colab_type": "code",
    "executionInfo": {
     "elapsed": 215946,
     "status": "ok",
     "timestamp": 1526712768315,
     "user": {
      "displayName": "Andreas Steiner",
      "photoUrl": "https://lh3.googleusercontent.com/a/default-user=s128",
      "userId": "115804658599019978174"
     },
     "user_tz": -120
    },
    "id": "9oI_Yrk_GeG_",
    "outputId": "a011a83d-9ed9-4461-be05-077760eb1c3a"
   },
   "outputs": [
    {
     "name": "stdout",
     "output_type": "stream",
     "text": [
      "processed 2363/70000 (3.38%)\n",
      "processed 4977/70000 (7.11%)\n",
      "processed 7413/70000 (10.59%)\n",
      "processed 9744/70000 (13.92%)\n",
      "processed 12645/70000 (18.06%)\n",
      "processed 15708/70000 (22.44%)\n",
      "processed 18466/70000 (26.38%)\n",
      "processed 21321/70000 (30.46%)\n",
      "processed 24161/70000 (34.52%)\n",
      "processed 27029/70000 (38.61%)\n",
      "processed 29769/70000 (42.53%)\n",
      "processed 32459/70000 (46.37%)\n",
      "processed 35332/70000 (50.47%)\n",
      "processed 38213/70000 (54.59%)\n",
      "processed 40995/70000 (58.56%)\n",
      "processed 43693/70000 (62.42%)\n",
      "processed 46311/70000 (66.16%)\n",
      "processed 49223/70000 (70.32%)\n",
      "processed 51939/70000 (74.20%)\n",
      "processed 54672/70000 (78.10%)\n",
      "processed 57510/70000 (82.16%)\n",
      "processed 60445/70000 (86.35%)\n",
      "processed 63033/70000 (90.05%)\n",
      "processed 65995/70000 (94.28%)\n",
      "processed 68858/70000 (98.37%)\n",
      "stored examples to \"../data/dataset_stroke\"\n",
      "generated 700000 examples in 253 seconds\n"
     ]
    },
    {
     "data": {
      "text/plain": [
       "<matplotlib.figure.Figure at 0x1816956c50>"
      ]
     },
     "metadata": {},
     "output_type": "display_data"
    }
   ],
   "source": [
    "# (Load code from previous cell -- make sure to have executed above cell first.)\n",
    "%run -i _derived/1_make_example_stroke.py\n",
    "\n",
    "# Create the (stroke) dataset.\n",
    "\n",
    "path = '%s/dataset_stroke' % data_path\n",
    "t0 = time.time()\n",
    "n = make_sharded_files(\n",
    "    make_example=make_example_stroke,\n",
    "    path=path,\n",
    "    classes=classes,\n",
    "    iters=[loaditer(name) for name in classes],\n",
    "    splits=dict(train=50000, eval=10000, test=10000),\n",
    "    overwrite=True,\n",
    ")\n",
    "\n",
    "print('stored examples to \"%s\"' % path)\n",
    "print('generated %d examples in %d seconds' % (n, time.time() - t0))"
   ]
  }
 ],
 "metadata": {
  "colab": {
   "collapsed_sections": [],
   "default_view": {},
   "name": "1_qd_data.ipynb",
   "provenance": [],
   "toc_visible": true,
   "version": "0.3.2",
   "views": {}
  },
  "kernelspec": {
   "display_name": "Python 3",
   "language": "python",
   "name": "python3"
  },
  "language_info": {
   "codemirror_mode": {
    "name": "ipython",
    "version": 3
   },
   "file_extension": ".py",
   "mimetype": "text/x-python",
   "name": "python",
   "nbconvert_exporter": "python",
   "pygments_lexer": "ipython3",
   "version": "3.6.4"
  },
  "toc": {
   "nav_menu": {},
   "number_sections": true,
   "sideBar": true,
   "skip_h1_title": false,
   "title_cell": "Table of Contents",
   "title_sidebar": "Contents",
   "toc_cell": false,
   "toc_position": {},
   "toc_section_display": true,
   "toc_window_display": false
  }
 },
 "nbformat": 4,
 "nbformat_minor": 1
}
