{
 "cells": [
  {
   "cell_type": "markdown",
   "metadata": {
    "colab_type": "text",
    "id": "1OLxnpePKtcI"
   },
   "source": [
    "# Building an Estimator\n",
    "\n",
    "Once we have our data in the \"right\" format (i.e. files containing\n",
    "`tf.train.Example` protocol buffers), Tensorflow makes the actual\n",
    "ML part straightforward.\n",
    "\n",
    "In this notebook we will first set up the computational graph that\n",
    "reads the input data and transforms it into tensors, and then use\n",
    "Tensorflow's \"canned\" estimator to learn from there.\n",
    "\n",
    "This notebook contains a whole series of exciting bonus sections\n",
    "that you certainly won't have time to solve during the workshop,\n",
    "but you might want to come back to these after the workshop to create\n",
    "more sophisticated models that solve the task better."
   ]
  },
  {
   "cell_type": "code",
   "execution_count": 1,
   "metadata": {
    "colab": {
     "autoexec": {
      "startup": false,
      "wait_interval": 0
     },
     "base_uri": "https://localhost:8080/",
     "height": 34
    },
    "colab_type": "code",
    "executionInfo": {
     "elapsed": 2620,
     "status": "ok",
     "timestamp": 1526712849326,
     "user": {
      "displayName": "Andreas Steiner",
      "photoUrl": "https://lh3.googleusercontent.com/a/default-user=s128",
      "userId": "115804658599019978174"
     },
     "user_tz": -120
    },
    "id": "ul42dk3WKtcJ",
    "outputId": "33c8a779-4f19-4a26-c017-d0b735f5f2d1"
   },
   "outputs": [
    {
     "data": {
      "text/plain": [
       "'1.7.0'"
      ]
     },
     "execution_count": 1,
     "metadata": {},
     "output_type": "execute_result"
    }
   ],
   "source": [
    "from __future__ import division, print_function\n",
    "\n",
    "import itertools\n",
    "import numpy as np\n",
    "import tensorflow as tf\n",
    "from matplotlib import pyplot\n",
    "\n",
    "!mkdir -p _derived  # (Needed for running in Colab environment.)\n",
    "%matplotlib inline\n",
    "# Always make sure you are using running the expected version.\n",
    "# There are considerable differences between versions...\n",
    "# Tested with 1.4.1 and 1.7.0\n",
    "tf.__version__"
   ]
  },
  {
   "cell_type": "markdown",
   "metadata": {
    "colab_type": "text",
    "id": "2HJ-v7BHKtcO"
   },
   "source": [
    "# 1 Reading the data"
   ]
  },
  {
   "cell_type": "code",
   "execution_count": 2,
   "metadata": {
    "colab": {
     "autoexec": {
      "startup": false,
      "wait_interval": 0
     },
     "base_uri": "https://localhost:8080/",
     "height": 561
    },
    "colab_type": "code",
    "executionInfo": {
     "elapsed": 1915,
     "status": "ok",
     "timestamp": 1526712855645,
     "user": {
      "displayName": "Andreas Steiner",
      "photoUrl": "https://lh3.googleusercontent.com/a/default-user=s128",
      "userId": "115804658599019978174"
     },
     "user_tz": -120
    },
    "id": "-wOh5H8jKtcQ",
    "outputId": "8d151d58-ecea-474a-8b68-814014b3d7a9"
   },
   "outputs": [
    {
     "name": "stdout",
     "output_type": "stream",
     "text": [
      "total 747016\r\n",
      "-rw-r--r--  1 andreassteiner  staff   5.2M May 19 17:27 eval-00000-of-00010\r\n",
      "-rw-r--r--  1 andreassteiner  staff   5.2M May 19 17:27 eval-00001-of-00010\r\n",
      "-rw-r--r--  1 andreassteiner  staff   5.2M May 19 17:27 eval-00002-of-00010\r\n",
      "-rw-r--r--  1 andreassteiner  staff   5.2M May 19 17:27 eval-00003-of-00010\r\n",
      "-rw-r--r--  1 andreassteiner  staff   5.2M May 19 17:27 eval-00004-of-00010\r\n",
      "-rw-r--r--  1 andreassteiner  staff   5.2M May 19 17:27 eval-00005-of-00010\r\n",
      "-rw-r--r--  1 andreassteiner  staff   5.2M May 19 17:27 eval-00006-of-00010\r\n",
      "-rw-r--r--  1 andreassteiner  staff   5.2M May 19 17:27 eval-00007-of-00010\r\n",
      "-rw-r--r--  1 andreassteiner  staff   5.2M May 19 17:27 eval-00008-of-00010\r\n",
      "-rw-r--r--  1 andreassteiner  staff   5.2M May 19 17:27 eval-00009-of-00010\r\n",
      "-rw-r--r--  1 andreassteiner  staff    74B May 19 17:27 labels.txt\r\n",
      "-rw-r--r--  1 andreassteiner  staff   5.2M May 19 17:27 test-00000-of-00010\r\n",
      "-rw-r--r--  1 andreassteiner  staff   5.2M May 19 17:27 test-00001-of-00010\r\n",
      "-rw-r--r--  1 andreassteiner  staff   5.2M May 19 17:27 test-00002-of-00010\r\n",
      "-rw-r--r--  1 andreassteiner  staff   5.2M May 19 17:27 test-00003-of-00010\r\n",
      "-rw-r--r--  1 andreassteiner  staff   5.2M May 19 17:27 test-00004-of-00010\r\n",
      "-rw-r--r--  1 andreassteiner  staff   5.2M May 19 17:27 test-00005-of-00010\r\n",
      "-rw-r--r--  1 andreassteiner  staff   5.2M May 19 17:27 test-00006-of-00010\r\n",
      "-rw-r--r--  1 andreassteiner  staff   5.2M May 19 17:27 test-00007-of-00010\r\n",
      "-rw-r--r--  1 andreassteiner  staff   5.2M May 19 17:27 test-00008-of-00010\r\n",
      "-rw-r--r--  1 andreassteiner  staff   5.2M May 19 17:27 test-00009-of-00010\r\n",
      "-rw-r--r--  1 andreassteiner  staff    26M May 19 17:27 train-00000-of-00010\r\n",
      "-rw-r--r--  1 andreassteiner  staff    26M May 19 17:27 train-00001-of-00010\r\n",
      "-rw-r--r--  1 andreassteiner  staff    26M May 19 17:27 train-00002-of-00010\r\n",
      "-rw-r--r--  1 andreassteiner  staff    26M May 19 17:27 train-00003-of-00010\r\n",
      "-rw-r--r--  1 andreassteiner  staff    26M May 19 17:27 train-00004-of-00010\r\n",
      "-rw-r--r--  1 andreassteiner  staff    26M May 19 17:27 train-00005-of-00010\r\n",
      "-rw-r--r--  1 andreassteiner  staff    26M May 19 17:27 train-00006-of-00010\r\n",
      "-rw-r--r--  1 andreassteiner  staff    26M May 19 17:27 train-00007-of-00010\r\n",
      "-rw-r--r--  1 andreassteiner  staff    26M May 19 17:27 train-00008-of-00010\r\n",
      "-rw-r--r--  1 andreassteiner  staff    26M May 19 17:27 train-00009-of-00010\r\n"
     ]
    }
   ],
   "source": [
    "# Load data generated in 1_qd_data:\n",
    "data_path = '../data/dataset_img'\n",
    "# Show files in dataset.\n",
    "!ls -lh $data_path"
   ]
  },
  {
   "cell_type": "code",
   "execution_count": 3,
   "metadata": {
    "colab": {
     "autoexec": {
      "startup": false,
      "wait_interval": 0
     },
     "base_uri": "https://localhost:8080/",
     "height": 221
    },
    "colab_type": "code",
    "executionInfo": {
     "elapsed": 983,
     "status": "ok",
     "timestamp": 1526712875627,
     "user": {
      "displayName": "Andreas Steiner",
      "photoUrl": "https://lh3.googleusercontent.com/a/default-user=s128",
      "userId": "115804658599019978174"
     },
     "user_tz": -120
    },
    "id": "iVl9e7Y7KtcU",
    "outputId": "336371e8-3463-4529-86f3-6aa5f54d266c"
   },
   "outputs": [
    {
     "name": "stdout",
     "output_type": "stream",
     "text": [
      "10 label classes:\n",
      "\n",
      "0 -> elephant\n",
      "1 -> giraffe\n",
      "2 -> kangaroo\n",
      "3 -> lion\n",
      "4 -> monkey\n",
      "5 -> panda\n",
      "6 -> penguin\n",
      "7 -> rhinoceros\n",
      "8 -> tiger\n",
      "9 -> zebra\n"
     ]
    }
   ],
   "source": [
    "# It's customary to identify the label by an integer number. These\n",
    "# numbers map to the different classes as follows:\n",
    "classes = open('%s/labels.txt' % data_path).read().splitlines()\n",
    "print('%d label classes:\\n' % len(classes))\n",
    "for i, label in enumerate(classes):\n",
    "    print('%d -> %s' % (i, label))"
   ]
  },
  {
   "cell_type": "markdown",
   "metadata": {
    "colab_type": "text",
    "id": "YJ3wTbh5KtcX"
   },
   "source": [
    "## 1.1 Reading the data using pure Python"
   ]
  },
  {
   "cell_type": "code",
   "execution_count": 4,
   "metadata": {
    "colab": {
     "autoexec": {
      "startup": false,
      "wait_interval": 0
     },
     "base_uri": "https://localhost:8080/",
     "height": 136
    },
    "colab_type": "code",
    "executionInfo": {
     "elapsed": 982,
     "status": "ok",
     "timestamp": 1526712904783,
     "user": {
      "displayName": "Andreas Steiner",
      "photoUrl": "https://lh3.googleusercontent.com/a/default-user=s128",
      "userId": "115804658599019978174"
     },
     "user_tz": -120
    },
    "id": "KTxdM9p0KtcX",
    "outputId": "88b2982a-737e-4e49-a376-f2284d3e77ca"
   },
   "outputs": [
    {
     "name": "stdout",
     "output_type": "stream",
     "text": [
      "              img_64 (int64_list)\n",
      "         countrycode (bytes_list)\n",
      "               label (int64_list)\n",
      "                word (bytes_list)\n",
      "           timestamp (int64_list)\n",
      "              key_id (int64_list)\n",
      "          recognized (int64_list)\n"
     ]
    }
   ],
   "source": [
    "# Step 1 : Read a single record from the first file.\n",
    "train_files = tf.gfile.Glob('%s/train-*' % data_path)\n",
    "record = next(tf.python_io.tf_record_iterator(train_files[0]))\n",
    "# Step 2 : Parse record into tf.train.Example proto.\n",
    "example = tf.train.Example.FromString(record)\n",
    "# We need the image \"img_64\" and the \"label\". Both are of type\n",
    "# int64_list: the label is stored by its index and the image is\n",
    "# a 64x64 list of integers that are the pixel values.\n",
    "for name, feature in example.features.feature.items():\n",
    "    print('%20s (%s)' % (name, feature.WhichOneof('kind')))"
   ]
  },
  {
   "cell_type": "code",
   "execution_count": 5,
   "metadata": {
    "colab": {
     "autoexec": {
      "startup": false,
      "wait_interval": 0
     }
    },
    "colab_type": "code",
    "id": "UJ9laaC2Ktcb"
   },
   "outputs": [],
   "source": [
    "# Step 3 : Read features.\n",
    "img_64 = example.features.feature['img_64'].int64_list.value\n",
    "img_64 = np.array(img_64).reshape((64, 64)) / 255.\n",
    "label = example.features.feature['label'].int64_list.value[0]"
   ]
  },
  {
   "cell_type": "code",
   "execution_count": 6,
   "metadata": {
    "colab": {
     "autoexec": {
      "startup": false,
      "wait_interval": 0
     },
     "base_uri": "https://localhost:8080/",
     "height": 280
    },
    "colab_type": "code",
    "executionInfo": {
     "elapsed": 1283,
     "status": "ok",
     "timestamp": 1526712912903,
     "user": {
      "displayName": "Andreas Steiner",
      "photoUrl": "https://lh3.googleusercontent.com/a/default-user=s128",
      "userId": "115804658599019978174"
     },
     "user_tz": -120
    },
    "id": "GaAAj3XQKtcd",
    "outputId": "46098ce1-ec95-417c-ecd0-ae1f5fc9f2ac"
   },
   "outputs": [
    {
     "data": {
      "image/png": "[encoded data removed]",
      "text/plain": [
       "<matplotlib.figure.Figure at 0x181899de10>"
      ]
     },
     "metadata": {},
     "output_type": "display_data"
    }
   ],
   "source": [
    "# Visualize drawing.\n",
    "\n",
    "def show_img(img_64, title, ax=None):\n",
    "    (ax if ax else pyplot).matshow(img_64, cmap='gray')\n",
    "    ax = ax if ax else pyplot.gca()\n",
    "    ax.set_xticks([])\n",
    "    ax.set_yticks([])\n",
    "    ax.set_title(title)\n",
    "\n",
    "show_img(img_64, classes[label])"
   ]
  },
  {
   "cell_type": "markdown",
   "metadata": {
    "colab_type": "text",
    "id": "I5kGHQupKtch"
   },
   "source": [
    "## 1.2 Reading the data using Tensorflow"
   ]
  },
  {
   "cell_type": "code",
   "execution_count": 7,
   "metadata": {
    "colab": {
     "autoexec": {
      "startup": false,
      "wait_interval": 0
     },
     "base_uri": "https://localhost:8080/",
     "height": 34
    },
    "colab_type": "code",
    "executionInfo": {
     "elapsed": 1128,
     "status": "ok",
     "timestamp": 1526712921788,
     "user": {
      "displayName": "Andreas Steiner",
      "photoUrl": "https://lh3.googleusercontent.com/a/default-user=s128",
      "userId": "115804658599019978174"
     },
     "user_tz": -120
    },
    "id": "Jip76pl4Ktci",
    "outputId": "2cddae33-defe-412b-e2bf-78068f548e59"
   },
   "outputs": [
    {
     "name": "stdout",
     "output_type": "stream",
     "text": [
      "Overwriting _derived/4_input_fn_img.py\n"
     ]
    }
   ],
   "source": [
    "%%writefile _derived/4_input_fn_img.py\n",
    "# (Written into separate file for sharing with cloud code.)\n",
    "\n",
    "# Read input data from sharded files using 1.4 API.\n",
    "# This is copied and slightly simplified from tf_snippets.ipynb\n",
    "\n",
    "# Note that this cell simply defines the functions but does not yet call\n",
    "# them. The functions are executed in the next cell within a tf.Graph()\n",
    "# context.\n",
    "\n",
    "# This dictionary specifies what \"features\" we want to extract from the\n",
    "# tf.train.Example protos (i.e. what they look like on disk). We only\n",
    "# need the image data \"img_64\" and the \"label\". Both features are tensors\n",
    "# with a fixed length.\n",
    "# You need to specify the correct \"shape\" and \"dtype\" parameters for\n",
    "# these features...\n",
    "feature_spec = {\n",
    "    # Single label per example => shape=[1] (we could also use shape=() and\n",
    "    # then do a transformation in the input_fn).\n",
    "    'label': tf.FixedLenFeature(shape=[1], dtype=tf.int64),\n",
    "    # The bytes_list data is parsed into tf.string.\n",
    "    'img_64': tf.FixedLenFeature(shape=[64, 64], dtype=tf.int64),\n",
    "}\n",
    "\n",
    "def parse_example(serialized_example):\n",
    "    # Convert string to tf.train.Example and then extract features/label.\n",
    "    features = tf.parse_single_example(serialized_example, feature_spec)\n",
    "    # Important step: remove \"label\" from features!\n",
    "    # Otherwise our classifier would simply learn to predict\n",
    "    # label=features['label']...\n",
    "    label = features.pop('label')\n",
    "    # Convert int64 [0..255] to float [0..1]\n",
    "    features['img_64'] = tf.cast(features['img_64'], tf.float32) / 255.\n",
    "    return features, label\n",
    "\n",
    "# Common Tensorflow pattern : wrap function to specify parameters.\n",
    "# The estimator interface expects a \"input_fn\" as a parameter, and not the\n",
    "# tensors (features, labels) so it can re-create the tensors in different\n",
    "# graphs later on.\n",
    "def make_input_fn(files_pattern, batch_size=100):\n",
    "    def input_fn():\n",
    "        # Signature input_fn: () -> features=Dict[str, Tensor], labels=Tensor\n",
    "        ds = tf.data.TFRecordDataset(tf.gfile.Glob(files_pattern))\n",
    "        ds = ds.map(parse_example).batch(batch_size)\n",
    "        ds = ds.shuffle(buffer_size=5*batch_size).repeat()\n",
    "        features, labels = ds.make_one_shot_iterator().get_next()\n",
    "        return features, labels\n",
    "    return input_fn"
   ]
  },
  {
   "cell_type": "code",
   "execution_count": 8,
   "metadata": {
    "colab": {
     "autoexec": {
      "startup": false,
      "wait_interval": 0
     },
     "base_uri": "https://localhost:8080/",
     "height": 158
    },
    "colab_type": "code",
    "executionInfo": {
     "elapsed": 1204,
     "status": "ok",
     "timestamp": 1526712931620,
     "user": {
      "displayName": "Andreas Steiner",
      "photoUrl": "https://lh3.googleusercontent.com/a/default-user=s128",
      "userId": "115804658599019978174"
     },
     "user_tz": -120
    },
    "id": "LUiFMFAlKtcl",
    "outputId": "c0249db8-e69c-4170-adc8-dc2275e287bf"
   },
   "outputs": [
    {
     "name": "stdout",
     "output_type": "stream",
     "text": [
      "INFO:tensorflow:Graph was finalized.\n",
      "INFO:tensorflow:Running local_init_op.\n",
      "INFO:tensorflow:Done running local_init_op.\n"
     ]
    },
    {
     "data": {
      "image/png": "[encoded data removed]",
      "text/plain": [
       "<matplotlib.figure.Figure at 0x18189bf5f8>"
      ]
     },
     "metadata": {},
     "output_type": "display_data"
    }
   ],
   "source": [
    "# Define a graph, load a batch of examples and display one of them.\n",
    "\n",
    "%run -i _derived/4_input_fn_img.py\n",
    "\n",
    "# First, we create the input_fn -- this defines which files to read from\n",
    "# and the batch size, and can later be passed around.\n",
    "batch_size = 5\n",
    "input_fn = make_input_fn(files_pattern='%s/train-*' % data_path,\n",
    "                         batch_size=batch_size)\n",
    "with tf.Graph().as_default():\n",
    "    # After registering a default graph, we call the previously defined\n",
    "    # input_fn.\n",
    "    # This yields the dictionary of feature tensors and the label tensor.\n",
    "    features, labels = input_fn()\n",
    "    with tf.train.MonitoredSession() as sess:\n",
    "        # Note: We create a tf.train.MonitoredSession instead of a normal\n",
    "        # tf.Session because Tensorflow is using pipelines under the hood\n",
    "        # to read data in a streaming fashion from disk into our computational\n",
    "        # Graph. If we used a plain old tf.Session(), then we would have to\n",
    "        # take care of initializing the threads for the pipelines ourselves...\n",
    "        img_64_, labels_ = sess.run([features['img_64'], labels])\n",
    "        # Note that first dimension is the batch dimension.\n",
    "        for i in range(batch_size):\n",
    "            ax = pyplot.subplot(1, batch_size, i+1)\n",
    "            show_img(img_64_[i], classes[labels_[i][0]], ax)\n",
    "\n",
    "# Also note how content changes upon every re-execution of this cell.\n",
    "# That is because of the randomization in the input_fn."
   ]
  },
  {
   "cell_type": "markdown",
   "metadata": {
    "colab_type": "text",
    "id": "ry51bTZ-Ktco"
   },
   "source": [
    "# 2 Canned estimators\n",
    "\n",
    "Once we have our `input_fn`, it's a piece of cake to do some\n",
    "machine learning on top of it using Tensorflow's \"canned\n",
    "estimators\". Let's start with a simple\n",
    "[LinearClassifier](https://www.tensorflow.org/versions/master/api_docs/python/tf/estimator/LinearClassifier).\n",
    "\n",
    "A LinearClassifier implements simple **logistic regression** that is basically\n",
    "a neural network where every input neuron (pixel image) is directly connected\n",
    "to all output neurons (probabilities for different classes). Every output neuron\n",
    "effectively remembers a \"mask\" in the input pixel space, an approach that\n",
    "quickly learns to identify drawings that have similar pixel activations, but\n",
    "fails to learn anything more complicated (e.g. an elephant's trunk could\n",
    "activate the giraffe's \"neck mask\" if it happened to be in the same pixel\n",
    "region)."
   ]
  },
  {
   "cell_type": "code",
   "execution_count": 9,
   "metadata": {
    "colab": {
     "autoexec": {
      "startup": false,
      "wait_interval": 0
     },
     "base_uri": "https://localhost:8080/",
     "height": 88
    },
    "colab_type": "code",
    "executionInfo": {
     "elapsed": 819,
     "status": "ok",
     "timestamp": 1526712949974,
     "user": {
      "displayName": "Andreas Steiner",
      "photoUrl": "https://lh3.googleusercontent.com/a/default-user=s128",
      "userId": "115804658599019978174"
     },
     "user_tz": -120
    },
    "id": "UFfD2AROKtcp",
    "outputId": "1ac771c9-4030-43ed-d798-fbb53f1360a2"
   },
   "outputs": [
    {
     "name": "stdout",
     "output_type": "stream",
     "text": [
      "INFO:tensorflow:Using default config.\n",
      "WARNING:tensorflow:Using temporary folder as model directory: /var/folders/rf/9wzpp24d021fy0p480ggcysm0000gn/T/tmpdrkyvww1\n",
      "INFO:tensorflow:Using config: {'_model_dir': '/var/folders/rf/9wzpp24d021fy0p480ggcysm0000gn/T/tmpdrkyvww1', '_tf_random_seed': None, '_save_summary_steps': 100, '_save_checkpoints_steps': None, '_save_checkpoints_secs': 600, '_session_config': None, '_keep_checkpoint_max': 5, '_keep_checkpoint_every_n_hours': 10000, '_log_step_count_steps': 100, '_service': None, '_cluster_spec': <tensorflow.python.training.server_lib.ClusterSpec object at 0x181899da58>, '_task_type': 'worker', '_task_id': 0, '_global_id_in_cluster': 0, '_master': '', '_evaluation_master': '', '_is_chief': True, '_num_ps_replicas': 0, '_num_worker_replicas': 1}\n"
     ]
    }
   ],
   "source": [
    "# \"Feature columns\" tell our canned estimator how to make use of the\n",
    "# data returned by input_fn(). In our case we have a single feature that\n",
    "# is of numerical (defaults to tf.float32) type with shape=(64, 64).\n",
    "feature_columns = [\n",
    "    # Add a feature column of numeric type and correct shape for the \"img_64\" feature.\n",
    "    tf.feature_column.numeric_column('img_64', shape=(64, 64))\n",
    "]\n",
    "\n",
    "# Note that feature columns can also be used to generate the \"feature_spec\"\n",
    "# used to parsing the tf.train.Example protocol buffers, and that there are\n",
    "# other feature column types that can do complicated data transformation\n",
    "# (such as looking up strings and creating embeddings) -- but that's a story\n",
    "# for another workshop ;-)\n",
    "\n",
    "# (we also need to specify number of output classes)\n",
    "linear_estimator  = tf.estimator.LinearClassifier(feature_columns=feature_columns,\n",
    "                                                  n_classes=len(classes))"
   ]
  },
  {
   "cell_type": "code",
   "execution_count": 10,
   "metadata": {
    "colab": {
     "autoexec": {
      "startup": false,
      "wait_interval": 0
     },
     "base_uri": "https://localhost:8080/",
     "height": 272
    },
    "colab_type": "code",
    "executionInfo": {
     "elapsed": 7959,
     "status": "ok",
     "timestamp": 1526712987872,
     "user": {
      "displayName": "Andreas Steiner",
      "photoUrl": "https://lh3.googleusercontent.com/a/default-user=s128",
      "userId": "115804658599019978174"
     },
     "user_tz": -120
    },
    "id": "4IBQ1eWTKtct",
    "outputId": "530ef497-2d36-4e9d-f3fc-c40726c93a1a"
   },
   "outputs": [
    {
     "name": "stdout",
     "output_type": "stream",
     "text": [
      "INFO:tensorflow:Calling model_fn.\n",
      "INFO:tensorflow:Done calling model_fn.\n",
      "INFO:tensorflow:Create CheckpointSaverHook.\n",
      "INFO:tensorflow:Graph was finalized.\n",
      "INFO:tensorflow:Running local_init_op.\n",
      "INFO:tensorflow:Done running local_init_op.\n",
      "INFO:tensorflow:Saving checkpoints for 1 into /var/folders/rf/9wzpp24d021fy0p480ggcysm0000gn/T/tmpdrkyvww1/model.ckpt.\n",
      "INFO:tensorflow:loss = 230.259, step = 1\n",
      "INFO:tensorflow:global_step/sec: 304.281\n",
      "INFO:tensorflow:loss = 1568.44, step = 101 (0.328 sec)\n",
      "INFO:tensorflow:global_step/sec: 369.705\n",
      "INFO:tensorflow:loss = 771.611, step = 201 (0.271 sec)\n",
      "INFO:tensorflow:Saving checkpoints for 300 into /var/folders/rf/9wzpp24d021fy0p480ggcysm0000gn/T/tmpdrkyvww1/model.ckpt.\n",
      "INFO:tensorflow:Loss for final step: 637.073.\n"
     ]
    },
    {
     "data": {
      "text/plain": [
       "<tensorflow.python.estimator.canned.linear.LinearClassifier at 0x181899d588>"
      ]
     },
     "execution_count": 10,
     "metadata": {},
     "output_type": "execute_result"
    }
   ],
   "source": [
    "# Connect it to the input_fn with the training data and train the classifier.\n",
    "\n",
    "### YOUR ACTION REQUIRED:\n",
    "# You have to specify what data to use for training (which input_fn), and how\n",
    "# many steps you want to train for. The number of examples used for training is\n",
    "# = steps * batch_size.\n",
    "input_fn = make_input_fn('%s/train-*' % data_path) #input_fn = make_input_fn(...)\n",
    "\n",
    "### YOUR ACTION REQUIRED:\n",
    "# Try different number of training steps and see how this influences training time\n",
    "# (and accuracy in cell below). Note that you have to re-run the previous cell\n",
    "# to \"reset\" the classifier (otherwise the estimator will simply *continue* the\n",
    "# training with an additional number of steps).\n",
    "steps = 300 #steps =\n",
    "linear_estimator.train(input_fn=input_fn, steps=steps)"
   ]
  },
  {
   "cell_type": "code",
   "execution_count": 11,
   "metadata": {
    "colab": {
     "autoexec": {
      "startup": false,
      "wait_interval": 0
     },
     "base_uri": "https://localhost:8080/",
     "height": 428
    },
    "colab_type": "code",
    "executionInfo": {
     "elapsed": 3364,
     "status": "ok",
     "timestamp": 1526712994230,
     "user": {
      "displayName": "Andreas Steiner",
      "photoUrl": "https://lh3.googleusercontent.com/a/default-user=s128",
      "userId": "115804658599019978174"
     },
     "user_tz": -120
    },
    "id": "P726iOBsKtcy",
    "outputId": "c33992e2-3d33-42a2-f955-ee4d261d0279"
   },
   "outputs": [
    {
     "name": "stdout",
     "output_type": "stream",
     "text": [
      "INFO:tensorflow:Calling model_fn.\n",
      "INFO:tensorflow:Done calling model_fn.\n",
      "INFO:tensorflow:Starting evaluation at 2018-05-19-16:21:02\n",
      "INFO:tensorflow:Graph was finalized.\n",
      "INFO:tensorflow:Restoring parameters from /var/folders/rf/9wzpp24d021fy0p480ggcysm0000gn/T/tmpdrkyvww1/model.ckpt-300\n",
      "INFO:tensorflow:Running local_init_op.\n",
      "INFO:tensorflow:Done running local_init_op.\n",
      "INFO:tensorflow:Evaluation [10/100]\n",
      "INFO:tensorflow:Evaluation [20/100]\n",
      "INFO:tensorflow:Evaluation [30/100]\n",
      "INFO:tensorflow:Evaluation [40/100]\n",
      "INFO:tensorflow:Evaluation [50/100]\n",
      "INFO:tensorflow:Evaluation [60/100]\n",
      "INFO:tensorflow:Evaluation [70/100]\n",
      "INFO:tensorflow:Evaluation [80/100]\n",
      "INFO:tensorflow:Evaluation [90/100]\n",
      "INFO:tensorflow:Evaluation [100/100]\n",
      "INFO:tensorflow:Finished evaluation at 2018-05-19-16:21:04\n",
      "INFO:tensorflow:Saving dict for global step 300: accuracy = 0.5556, average_loss = 5.86927, global_step = 300, loss = 586.927\n"
     ]
    },
    {
     "data": {
      "text/plain": [
       "{'accuracy': 0.55559999,\n",
       " 'average_loss': 5.8692679,\n",
       " 'global_step': 300,\n",
       " 'loss': 586.92682}"
      ]
     },
     "execution_count": 11,
     "metadata": {},
     "output_type": "execute_result"
    }
   ],
   "source": [
    "# Evaluate the fitted classifier.\n",
    "### YOUR ACTION REQUIRED:\n",
    "# Find the correct values for below variables. Note that you should *not*\n",
    "# evaluate with the same data used for training.\n",
    "input_fn = make_input_fn('%s/eval-*' % data_path) #input_fn = \n",
    "steps = 100 #steps =\n",
    "linear_estimator.evaluate(input_fn=input_fn, steps=steps)"
   ]
  },
  {
   "cell_type": "code",
   "execution_count": 12,
   "metadata": {
    "colab": {
     "autoexec": {
      "startup": false,
      "wait_interval": 0
     },
     "base_uri": "https://localhost:8080/",
     "height": 800
    },
    "colab_type": "code",
    "executionInfo": {
     "elapsed": 1842,
     "status": "ok",
     "timestamp": 1526713007059,
     "user": {
      "displayName": "Andreas Steiner",
      "photoUrl": "https://lh3.googleusercontent.com/a/default-user=s128",
      "userId": "115804658599019978174"
     },
     "user_tz": -120
    },
    "id": "nYmfTgvrKtc2",
    "outputId": "fed911ce-a294-4ea4-cbc6-5e96fa753aca"
   },
   "outputs": [
    {
     "name": "stdout",
     "output_type": "stream",
     "text": [
      "INFO:tensorflow:Calling model_fn.\n",
      "INFO:tensorflow:Done calling model_fn.\n",
      "INFO:tensorflow:Graph was finalized.\n",
      "INFO:tensorflow:Restoring parameters from /var/folders/rf/9wzpp24d021fy0p480ggcysm0000gn/T/tmpdrkyvww1/model.ckpt-300\n",
      "INFO:tensorflow:Running local_init_op.\n",
      "INFO:tensorflow:Done running local_init_op.\n"
     ]
    },
    {
     "data": {
      "image/png": "[encoded data removed]",
      "text/plain": [
       "<matplotlib.figure.Figure at 0x181898eeb8>"
      ]
     },
     "metadata": {},
     "output_type": "display_data"
    }
   ],
   "source": [
    "# The simple LinearClassifier does not perform too well... Let's examine\n",
    "# some classifications so we can see which cases were failing.\n",
    "\n",
    "# Because estimator.predict() only returns class probabilities and not the\n",
    "# input data, we parse the features in Python (which gives us a handle on\n",
    "# the input data) and then create an input_fn using numpy_input_fn().\n",
    "\n",
    "def get_label_img(files_pattern, n):\n",
    "    \"\"\"Reads batch of \"img_64\" and \"label\" features.\n",
    "\n",
    "    Args:\n",
    "      files_pattern: Pattern matching files containing tf.train.Example.\n",
    "      n: Number of examples to parse.\n",
    "\n",
    "    Returns:\n",
    "      (imgs, labels) with shapes (n, 64, 64) and (n, 1). The image pixel values\n",
    "      fall in the range 0..1.\n",
    "    \"\"\"\n",
    "    imgs = np.zeros((n, 64, 64), dtype=np.float32)\n",
    "    labels = np.zeros((n, 1), dtype=np.int64)\n",
    "    i = 0\n",
    "    for filename in  tf.gfile.Glob(files_pattern):\n",
    "        for record in tf.python_io.tf_record_iterator(filename):\n",
    "            example = tf.train.Example.FromString(record)\n",
    "            labels[i, 0] = example.features.feature['label'].int64_list.value[0]\n",
    "            img_64 = example.features.feature['img_64'].int64_list.value\n",
    "            imgs[i, :, :] = np.array(img_64).reshape((64, 64)) / 255.\n",
    "            i += 1\n",
    "            if i >= n:\n",
    "                return imgs, labels\n",
    "\n",
    "def show_predictions(estimator, rows=4, cols=4, predict_keys=None):\n",
    "    \"\"\"Shows predictions + labels for a couple of examples.\"\"\"\n",
    "    # Read data in Python.\n",
    "    imgs, labels = get_label_img('%s/test-*' % data_path, n=rows*cols)\n",
    "    # Create input_fn from Python data.\n",
    "    input_fn = tf.estimator.inputs.numpy_input_fn({'img_64': imgs}, shuffle=False)\n",
    "    # Get predictions.\n",
    "    predict_iter = estimator.predict(input_fn=input_fn, predict_keys=predict_keys)\n",
    "    _, axs = pyplot.subplots(rows, cols, figsize=(cols*3, rows*3))\n",
    "    for (i, prediction) in enumerate(predict_iter):\n",
    "        # Plot image, predicted label + correct label.\n",
    "        predicted = np.argmax(prediction['probabilities'])\n",
    "        label = labels[i, 0]\n",
    "        title = '%s? %s!' % (classes[predicted], classes[label])\n",
    "        ax = axs[i//cols][i%cols]\n",
    "        show_img(imgs[i], title, ax)\n",
    "        ax.title.set_position([0.5, 1.0])\n",
    "\n",
    "show_predictions(linear_estimator)"
   ]
  },
  {
   "cell_type": "code",
   "execution_count": 13,
   "metadata": {
    "colab": {
     "autoexec": {
      "startup": false,
      "wait_interval": 0
     },
     "base_uri": "https://localhost:8080/",
     "height": 1635
    },
    "colab_type": "code",
    "executionInfo": {
     "elapsed": 167314,
     "status": "ok",
     "timestamp": 1526713557417,
     "user": {
      "displayName": "Andreas Steiner",
      "photoUrl": "https://lh3.googleusercontent.com/a/default-user=s128",
      "userId": "115804658599019978174"
     },
     "user_tz": -120
    },
    "id": "vhTUnm3GKtc7",
    "outputId": "3b2c2eca-34fa-4b99-fa9c-10d6245d8da4"
   },
   "outputs": [
    {
     "name": "stdout",
     "output_type": "stream",
     "text": [
      "INFO:tensorflow:Using default config.\n",
      "WARNING:tensorflow:Using temporary folder as model directory: /var/folders/rf/9wzpp24d021fy0p480ggcysm0000gn/T/tmpkb_u5e7c\n",
      "INFO:tensorflow:Using config: {'_model_dir': '/var/folders/rf/9wzpp24d021fy0p480ggcysm0000gn/T/tmpkb_u5e7c', '_tf_random_seed': None, '_save_summary_steps': 100, '_save_checkpoints_steps': None, '_save_checkpoints_secs': 600, '_session_config': None, '_keep_checkpoint_max': 5, '_keep_checkpoint_every_n_hours': 10000, '_log_step_count_steps': 100, '_service': None, '_cluster_spec': <tensorflow.python.training.server_lib.ClusterSpec object at 0x1822237da0>, '_task_type': 'worker', '_task_id': 0, '_global_id_in_cluster': 0, '_master': '', '_evaluation_master': '', '_is_chief': True, '_num_ps_replicas': 0, '_num_worker_replicas': 1}\n",
      "INFO:tensorflow:Calling model_fn.\n",
      "INFO:tensorflow:Done calling model_fn.\n",
      "INFO:tensorflow:Create CheckpointSaverHook.\n",
      "INFO:tensorflow:Graph was finalized.\n",
      "INFO:tensorflow:Running local_init_op.\n",
      "INFO:tensorflow:Done running local_init_op.\n",
      "INFO:tensorflow:Saving checkpoints for 1 into /var/folders/rf/9wzpp24d021fy0p480ggcysm0000gn/T/tmpkb_u5e7c/model.ckpt.\n",
      "INFO:tensorflow:loss = 248.689, step = 1\n",
      "INFO:tensorflow:global_step/sec: 25.9265\n",
      "INFO:tensorflow:loss = 156.274, step = 101 (3.858 sec)\n",
      "INFO:tensorflow:global_step/sec: 24.8937\n",
      "INFO:tensorflow:loss = 127.494, step = 201 (4.017 sec)\n",
      "INFO:tensorflow:global_step/sec: 27.7534\n",
      "INFO:tensorflow:loss = 81.2334, step = 301 (3.603 sec)\n",
      "INFO:tensorflow:global_step/sec: 28.8074\n",
      "INFO:tensorflow:loss = 123.716, step = 401 (3.471 sec)\n",
      "INFO:tensorflow:global_step/sec: 10.2117\n",
      "INFO:tensorflow:loss = 93.3304, step = 501 (9.794 sec)\n",
      "INFO:tensorflow:global_step/sec: 27.851\n",
      "INFO:tensorflow:loss = 93.4135, step = 601 (3.589 sec)\n",
      "INFO:tensorflow:global_step/sec: 24.3156\n",
      "INFO:tensorflow:loss = 85.7221, step = 701 (4.113 sec)\n",
      "INFO:tensorflow:global_step/sec: 24.9033\n",
      "INFO:tensorflow:loss = 68.5607, step = 801 (4.016 sec)\n",
      "INFO:tensorflow:global_step/sec: 25.9078\n",
      "INFO:tensorflow:loss = 97.6236, step = 901 (3.860 sec)\n",
      "INFO:tensorflow:global_step/sec: 11.9507\n",
      "INFO:tensorflow:loss = 89.7533, step = 1001 (8.368 sec)\n",
      "INFO:tensorflow:global_step/sec: 28.295\n",
      "INFO:tensorflow:loss = 79.9503, step = 1101 (3.535 sec)\n",
      "INFO:tensorflow:global_step/sec: 28.8915\n",
      "INFO:tensorflow:loss = 68.1624, step = 1201 (3.460 sec)\n",
      "INFO:tensorflow:global_step/sec: 32.0868\n",
      "INFO:tensorflow:loss = 74.8725, step = 1301 (3.117 sec)\n",
      "INFO:tensorflow:global_step/sec: 26.0316\n",
      "INFO:tensorflow:loss = 89.5943, step = 1401 (3.842 sec)\n",
      "INFO:tensorflow:global_step/sec: 10.4078\n",
      "INFO:tensorflow:loss = 84.1902, step = 1501 (9.607 sec)\n",
      "INFO:tensorflow:global_step/sec: 30.1208\n",
      "INFO:tensorflow:loss = 78.9297, step = 1601 (3.320 sec)\n",
      "INFO:tensorflow:global_step/sec: 31.2036\n",
      "INFO:tensorflow:loss = 64.4992, step = 1701 (3.205 sec)\n",
      "INFO:tensorflow:global_step/sec: 29.7696\n",
      "INFO:tensorflow:loss = 68.826, step = 1801 (3.359 sec)\n",
      "INFO:tensorflow:global_step/sec: 29.6726\n",
      "INFO:tensorflow:loss = 74.97, step = 1901 (3.370 sec)\n",
      "INFO:tensorflow:global_step/sec: 10.724\n",
      "INFO:tensorflow:loss = 71.0261, step = 2001 (9.325 sec)\n",
      "INFO:tensorflow:global_step/sec: 29.36\n",
      "INFO:tensorflow:loss = 55.4061, step = 2101 (3.406 sec)\n",
      "INFO:tensorflow:global_step/sec: 25.3187\n",
      "INFO:tensorflow:loss = 72.1512, step = 2201 (3.950 sec)\n",
      "INFO:tensorflow:global_step/sec: 30.152\n",
      "INFO:tensorflow:loss = 71.1783, step = 2301 (3.316 sec)\n",
      "INFO:tensorflow:global_step/sec: 33.9365\n",
      "INFO:tensorflow:loss = 75.8421, step = 2401 (2.947 sec)\n",
      "INFO:tensorflow:global_step/sec: 12.99\n",
      "INFO:tensorflow:loss = 58.8871, step = 2501 (7.700 sec)\n",
      "INFO:tensorflow:global_step/sec: 31.5129\n",
      "INFO:tensorflow:loss = 54.6839, step = 2601 (3.172 sec)\n",
      "INFO:tensorflow:global_step/sec: 34.6606\n",
      "INFO:tensorflow:loss = 74.7282, step = 2701 (2.885 sec)\n",
      "INFO:tensorflow:global_step/sec: 34.3897\n",
      "INFO:tensorflow:loss = 83.5271, step = 2801 (2.908 sec)\n",
      "INFO:tensorflow:global_step/sec: 32.5813\n",
      "INFO:tensorflow:loss = 67.1219, step = 2901 (3.069 sec)\n",
      "INFO:tensorflow:Saving checkpoints for 3000 into /var/folders/rf/9wzpp24d021fy0p480ggcysm0000gn/T/tmpkb_u5e7c/model.ckpt.\n",
      "INFO:tensorflow:Loss for final step: 53.9362.\n",
      "INFO:tensorflow:Calling model_fn.\n",
      "INFO:tensorflow:Done calling model_fn.\n",
      "INFO:tensorflow:Starting evaluation at 2018-05-19-16:23:26\n",
      "INFO:tensorflow:Graph was finalized.\n",
      "INFO:tensorflow:Restoring parameters from /var/folders/rf/9wzpp24d021fy0p480ggcysm0000gn/T/tmpkb_u5e7c/model.ckpt-3000\n",
      "INFO:tensorflow:Running local_init_op.\n",
      "INFO:tensorflow:Done running local_init_op.\n",
      "INFO:tensorflow:Evaluation [10/100]\n",
      "INFO:tensorflow:Evaluation [20/100]\n",
      "INFO:tensorflow:Evaluation [30/100]\n",
      "INFO:tensorflow:Evaluation [40/100]\n",
      "INFO:tensorflow:Evaluation [50/100]\n",
      "INFO:tensorflow:Evaluation [60/100]\n",
      "INFO:tensorflow:Evaluation [70/100]\n",
      "INFO:tensorflow:Evaluation [80/100]\n",
      "INFO:tensorflow:Evaluation [90/100]\n",
      "INFO:tensorflow:Evaluation [100/100]\n",
      "INFO:tensorflow:Finished evaluation at 2018-05-19-16:23:28\n",
      "INFO:tensorflow:Saving dict for global step 3000: accuracy = 0.709, average_loss = 0.859033, global_step = 3000, loss = 85.9033\n"
     ]
    },
    {
     "data": {
      "text/plain": [
       "{'accuracy': 0.70899999,\n",
       " 'average_loss': 0.85903329,\n",
       " 'global_step': 3000,\n",
       " 'loss': 85.903328}"
      ]
     },
     "execution_count": 13,
     "metadata": {},
     "output_type": "execute_result"
    }
   ],
   "source": [
    "# Let's use another canned estimator : The \"DNNClassifier\" (where DNN stands\n",
    "# for \"deep neural network\"). Since we're using the same estimator interface,\n",
    "# we can use the same input_fn() as before.\n",
    "\n",
    "### YOUR ACTION REQUIRED:\n",
    "# Try to find a configuration that outperforms our linear classifier.\n",
    "steps = 3000 #steps = \n",
    "hidden_units = [1000] #hidden_units = \n",
    "\n",
    "dnn_estimator  = tf.estimator.DNNClassifier(\n",
    "    hidden_units=hidden_units,\n",
    "    feature_columns=feature_columns,\n",
    "    n_classes=len(classes))\n",
    "dnn_estimator.train(input_fn=make_input_fn('%s/train-*' % data_path),\n",
    "                    steps=steps)\n",
    "dnn_estimator.evaluate(input_fn=make_input_fn('%s/eval-*' % data_path),\n",
    "                       steps=100)"
   ]
  },
  {
   "cell_type": "markdown",
   "metadata": {
    "colab_type": "text",
    "id": "-XsvGEQzKtc_"
   },
   "source": [
    "# 3 Custom convolutional classifier – bonus!<a name=\"_3 custom convolutional classifier – bonus!\"></a><a name=\"_3 custom convolutional classifier – bonus!\"></a>"
   ]
  },
  {
   "cell_type": "markdown",
   "metadata": {
    "colab_type": "text",
    "id": "y4fJuVO8Ktc_"
   },
   "source": [
    "In the previous section we used a \"canned\" linear estimator that\n",
    "computed the predictions from the pixel values directly by logistic\n",
    "regression.\n",
    "\n",
    "Of course we know that the pixel values are not randomly distributed,\n",
    "but actually form a two-dimensional image and we can leverage our\n",
    "understanding of the data by using\n",
    "[2D convolutions](https://en.wikipedia.org/wiki/Multidimensional_discrete_convolution).\n",
    "\n",
    "We will still be using the `tf.estimator` interface, but this time we\n",
    "specify the computational graph that computes the predictions from the\n",
    "raw pixel values by hand, using 2D convolutions and max pooling (max pooling\n",
    "is used to reduce the convoluted image's spatial dimensions)."
   ]
  },
  {
   "cell_type": "code",
   "execution_count": 1,
   "metadata": {
    "colab": {
     "autoexec": {
      "startup": false,
      "wait_interval": 0
     },
     "base_uri": "https://localhost:8080/",
     "height": 34
    },
    "colab_type": "code",
    "executionInfo": {
     "elapsed": 634,
     "status": "ok",
     "timestamp": 1526713963159,
     "user": {
      "displayName": "Andreas Steiner",
      "photoUrl": "https://lh3.googleusercontent.com/a/default-user=s128",
      "userId": "115804658599019978174"
     },
     "user_tz": -120
    },
    "id": "6zTvKT8lKtdB",
    "outputId": "2681517a-4550-4cb8-df9a-32c23684153f"
   },
   "outputs": [
    {
     "name": "stdout",
     "output_type": "stream",
     "text": [
      "Overwriting _derived/4_get_logits_img.py\n"
     ]
    }
   ],
   "source": [
    "%%writefile _derived/4_get_logits_img.py\n",
    "# (Written into separate file for sharing with cloud code.)\n",
    "\n",
    "# Define a function that computes \"logits\" from features.\n",
    "# The \"logits\" are unbound numbers that will be used as the\n",
    "# input to the softmax function (which is basically a sigmoid\n",
    "# function extended to more than two classes). The more positive\n",
    "# a logit, the closer to one the corresponding probability that\n",
    "# is the output of the softmax.\n",
    "# https://en.wikipedia.org/wiki/Softmax_function\n",
    "\n",
    "def get_logits_img(features, n_classes, mode, params):\n",
    "    \"\"\"Computes logits for provided features.\n",
    "\n",
    "    Args:\n",
    "      features: A dictionary of tensors that are the features\n",
    "          and whose first dimension is batch (as returned by input_fn).\n",
    "      n_classes: Number of classes from which to predict (i.e. the number\n",
    "          of different values in the \"labels\" tensor returned by the\n",
    "          input_fn).\n",
    "      mode: A tf.estimator.ModeKeys.\n",
    "      params: Hyper parameters: \"convs\" specifying the configuration of the\n",
    "          convolutions, and \"hidden\" specifying the configuration of the\n",
    "          dense layers after the convolutions.\n",
    "\n",
    "    Returns:\n",
    "      The logits tensor with shape=[batch, n_classes].\n",
    "    \"\"\"\n",
    "    # The parameter \"convs\" specifies (kernel, stride, filters)\n",
    "    # of successive convolution layers.\n",
    "    convs = params.get('convs', ((10, 4, 32), (5, 4, 64)))\n",
    "    # The parameter \"hidden\" specifies the number of neurons of\n",
    "    # successive fully connected layers (after convolution).\n",
    "    hidden = params.get('hidden', (256,))\n",
    "    # The function tf.layers.conv2d expects the tensor to have format\n",
    "    # [batch, height, width, channels] -- since our \"img_64\" tensor\n",
    "    # has format [batch, height, width], we need to expand the tensor\n",
    "    # to get [batch, height, width, channels=1].\n",
    "    last_layer = tf.cast(tf.expand_dims(features['img_64'], axis=3), tf.float32)\n",
    "    # We start with dims=width=height=64 and filters=channels=1 and then\n",
    "    # successively reduce the number of dimensions while increasing the\n",
    "    # number of filters in every convolutional/maxpooling layer.\n",
    "    dim = 64\n",
    "    filters = 1\n",
    "    for kernel, stride, filters in convs:\n",
    "        conv = tf.layers.conv2d(\n",
    "            inputs=last_layer, filters=filters, kernel_size=[kernel, kernel],\n",
    "            padding='same', activation=tf.nn.relu)\n",
    "        last_layer = tf.layers.max_pooling2d(\n",
    "            inputs=conv, pool_size=[stride, stride], strides=stride)\n",
    "        dim //= stride\n",
    "    # \"Flatten\" the last layer to get shape [batch, *]\n",
    "    last_layer = tf.reshape(last_layer, [-1, filters * dim * dim])\n",
    "    # Add some fully connected layers.\n",
    "    for units in hidden:\n",
    "        dense = tf.layers.dense(inputs=last_layer, units=units,\n",
    "                                activation=tf.nn.relu)\n",
    "        # Regularize using dropout.\n",
    "        training = mode == tf.estimator.ModeKeys.TRAIN\n",
    "        last_layer = tf.layers.dropout(inputs=dense, rate=0.4,\n",
    "                                       training=training)\n",
    "    # Finally return logits that is activation of neurons in last layer.\n",
    "    return tf.layers.dense(inputs=last_layer, units=n_classes)"
   ]
  },
  {
   "cell_type": "code",
   "execution_count": 15,
   "metadata": {
    "colab": {
     "autoexec": {
      "startup": false,
      "wait_interval": 0
     },
     "base_uri": "https://localhost:8080/",
     "height": 34
    },
    "colab_type": "code",
    "executionInfo": {
     "elapsed": 776,
     "status": "ok",
     "timestamp": 1526713966357,
     "user": {
      "displayName": "Andreas Steiner",
      "photoUrl": "https://lh3.googleusercontent.com/a/default-user=s128",
      "userId": "115804658599019978174"
     },
     "user_tz": -120
    },
    "id": "9TTuubJUKtdI",
    "outputId": "3b6484be-999b-479e-f17a-d7837dbb0b2d"
   },
   "outputs": [
    {
     "name": "stdout",
     "output_type": "stream",
     "text": [
      "Overwriting _derived/4_make_model_fn.py\n"
     ]
    }
   ],
   "source": [
    "%%writefile _derived/4_make_model_fn.py\n",
    "# (Written into separate file for sharing with cloud code.)\n",
    "\n",
    "# Warning : Boilerplate code cell...\n",
    "\n",
    "# This cell defines a function that connects the \"get_logits_fn\"\n",
    "# to the estimator interface and adds some useful output for our problem.\n",
    "# By specifying different parameters, the same function can be reused\n",
    "# in section 5 where we use a recurrent neural network to compute the\n",
    "# logits.\n",
    "\n",
    "def make_model_fn(get_logits_fn, n_classes):\n",
    "    \"\"\"Creates a model_fn.\n",
    "\n",
    "    Args:\n",
    "      get_logits_fn: Function that computes logits from features.\n",
    "      n_classes: Number of classes.\n",
    "\n",
    "    Returns:\n",
    "      A model_fn to be used with an estimator.\n",
    "    \"\"\"\n",
    "\n",
    "    def model_fn(features, labels, mode, params):\n",
    "        \"\"\"The model_fn is passed as an argument to the estimator.\n",
    "\n",
    "        Args:\n",
    "          features: Dictionary mapping feature names to feature tensors.\n",
    "          labels: Optional labels (`None` during inference).\n",
    "          mode: A `tf.estimator.ModeKeys`.\n",
    "          params: Optional dictionary of hyper parameters.\n",
    "\n",
    "        Returns:\n",
    "          A `tf.estimator.EstimatorSpec`.\n",
    "        \"\"\"\n",
    "\n",
    "        # Create logits from features using RNN.\n",
    "        logits = get_logits_fn(features, n_classes=n_classes, mode=mode,\n",
    "                               params=params)\n",
    "\n",
    "        # Convert logits to probabilities.\n",
    "        probabilities = tf.nn.softmax(logits)\n",
    "        # Extract class with highest probability.\n",
    "        predictions = tf.argmax(probabilities, axis=1)\n",
    "\n",
    "        onehot_labels = loss = train_op = eval_metric_ops = None\n",
    "        if labels is not None:\n",
    "            onehot_labels = tf.one_hot(tf.squeeze(labels), n_classes)\n",
    "            loss = tf.losses.softmax_cross_entropy(onehot_labels, logits)\n",
    "\n",
    "        if mode == tf.estimator.ModeKeys.TRAIN:\n",
    "            # Compute loss.\n",
    "            global_step = tf.train.get_global_step()\n",
    "            # Minimize.\n",
    "            train_op = tf.train.AdamOptimizer().minimize(loss, global_step=global_step)\n",
    "            tf.summary.scalar('loss', loss)\n",
    "            # Output number of parameters for educational purposes.\n",
    "            trainable_params = 0\n",
    "            for var in tf.trainable_variables():\n",
    "                tf.logging.info('Variable \"%s\" : %s.', var.name,\n",
    "                                var.get_shape().as_list())\n",
    "                trainable_params += np.prod(var.get_shape().as_list())\n",
    "            tf.logging.info('Total params : %d.', trainable_params)\n",
    "\n",
    "        if mode == tf.estimator.ModeKeys.EVAL:\n",
    "            # Report accuracy when evaluating.\n",
    "            eval_metric_ops = {\n",
    "                'accuracy': tf.metrics.accuracy(labels, predictions),\n",
    "            }\n",
    "\n",
    "        return tf.estimator.EstimatorSpec(\n",
    "            loss=loss,\n",
    "            mode=mode,\n",
    "            predictions={\n",
    "                'probabilities': probabilities,\n",
    "                'predictions': predictions,\n",
    "            },\n",
    "            export_outputs={\n",
    "                'prediction': tf.estimator.export.PredictOutput(outputs={\n",
    "                    'probabilities': probabilities,\n",
    "                    'predictions': predictions,\n",
    "                }),\n",
    "            },\n",
    "            train_op=train_op,\n",
    "            eval_metric_ops=eval_metric_ops,\n",
    "        )\n",
    "\n",
    "    return model_fn"
   ]
  },
  {
   "cell_type": "code",
   "execution_count": 16,
   "metadata": {
    "colab": {
     "autoexec": {
      "startup": false,
      "wait_interval": 0
     },
     "base_uri": "https://localhost:8080/",
     "height": 105
    },
    "colab_type": "code",
    "executionInfo": {
     "elapsed": 1097,
     "status": "ok",
     "timestamp": 1526713969192,
     "user": {
      "displayName": "Andreas Steiner",
      "photoUrl": "https://lh3.googleusercontent.com/a/default-user=s128",
      "userId": "115804658599019978174"
     },
     "user_tz": -120
    },
    "id": "Tbi_n0ZiKtdL",
    "outputId": "0da313b2-461f-41a1-ed31-549798622449"
   },
   "outputs": [
    {
     "name": "stdout",
     "output_type": "stream",
     "text": [
      "WARNING:tensorflow:Using temporary folder as model directory: /var/folders/rf/9wzpp24d021fy0p480ggcysm0000gn/T/tmpsna0t8j9\n",
      "INFO:tensorflow:Using config: {'_model_dir': '/var/folders/rf/9wzpp24d021fy0p480ggcysm0000gn/T/tmpsna0t8j9', '_tf_random_seed': None, '_save_summary_steps': 10, '_save_checkpoints_steps': None, '_save_checkpoints_secs': 600, '_session_config': None, '_keep_checkpoint_max': 5, '_keep_checkpoint_every_n_hours': 10000, '_log_step_count_steps': 100, '_service': None, '_cluster_spec': <tensorflow.python.training.server_lib.ClusterSpec object at 0x107e0b780>, '_task_type': 'worker', '_task_id': 0, '_global_id_in_cluster': 0, '_master': '', '_evaluation_master': '', '_is_chief': True, '_num_ps_replicas': 0, '_num_worker_replicas': 1}\n",
      "WARNING:tensorflow:Estimator's model_fn (<function make_model_fn.<locals>.model_fn at 0x1822127ea0>) includes params argument, but params are not passed to Estimator.\n"
     ]
    },
    {
     "data": {
      "text/plain": [
       "<matplotlib.figure.Figure at 0x107e0bef0>"
      ]
     },
     "metadata": {},
     "output_type": "display_data"
    }
   ],
   "source": [
    "%run -i _derived/4_get_logits_img.py\n",
    "%run -i _derived/4_make_model_fn.py\n",
    "\n",
    "# Instead of creating a tf.estimator.LinearClassifier, we now create\n",
    "# a tf.estimator.Estimator and specify our custom model_fn that will\n",
    "# be used by the estimator to compute the predictions from the features.\n",
    "run_config = tf.estimator.RunConfig(save_summary_steps=10)\n",
    "model_fn = make_model_fn(get_logits_fn=get_logits_img, n_classes=len(classes))\n",
    "cnn_estimator = tf.estimator.Estimator(model_fn=model_fn, config=run_config)\n",
    "# -- from here on, the code is exactly the same as in the previous section ..."
   ]
  },
  {
   "cell_type": "code",
   "execution_count": 17,
   "metadata": {
    "colab": {
     "autoexec": {
      "startup": false,
      "wait_interval": 0
     },
     "base_uri": "https://localhost:8080/",
     "height": 357
    },
    "colab_type": "code",
    "executionInfo": {
     "elapsed": 115350,
     "status": "ok",
     "timestamp": 1526714085496,
     "user": {
      "displayName": "Andreas Steiner",
      "photoUrl": "https://lh3.googleusercontent.com/a/default-user=s128",
      "userId": "115804658599019978174"
     },
     "user_tz": -120
    },
    "id": "VId2TE6gKtdN",
    "outputId": "6d066cc6-7fdd-498f-d0e6-76e8cce4efae"
   },
   "outputs": [
    {
     "name": "stdout",
     "output_type": "stream",
     "text": [
      "INFO:tensorflow:Calling model_fn.\n",
      "INFO:tensorflow:Variable \"conv2d/kernel:0\" : [10, 10, 1, 32].\n",
      "INFO:tensorflow:Variable \"conv2d/bias:0\" : [32].\n",
      "INFO:tensorflow:Variable \"conv2d_1/kernel:0\" : [5, 5, 32, 64].\n",
      "INFO:tensorflow:Variable \"conv2d_1/bias:0\" : [64].\n",
      "INFO:tensorflow:Variable \"dense/kernel:0\" : [1024, 256].\n",
      "INFO:tensorflow:Variable \"dense/bias:0\" : [256].\n",
      "INFO:tensorflow:Variable \"dense_1/kernel:0\" : [256, 10].\n",
      "INFO:tensorflow:Variable \"dense_1/bias:0\" : [10].\n",
      "INFO:tensorflow:Total params : 319466.\n",
      "INFO:tensorflow:Done calling model_fn.\n",
      "INFO:tensorflow:Create CheckpointSaverHook.\n",
      "INFO:tensorflow:Graph was finalized.\n",
      "INFO:tensorflow:Running local_init_op.\n",
      "INFO:tensorflow:Done running local_init_op.\n",
      "INFO:tensorflow:Saving checkpoints for 1 into /var/folders/rf/9wzpp24d021fy0p480ggcysm0000gn/T/tmpsna0t8j9/model.ckpt.\n",
      "INFO:tensorflow:loss = 2.34815, step = 1\n",
      "INFO:tensorflow:Saving checkpoints for 100 into /var/folders/rf/9wzpp24d021fy0p480ggcysm0000gn/T/tmpsna0t8j9/model.ckpt.\n",
      "INFO:tensorflow:Loss for final step: 0.964116.\n"
     ]
    },
    {
     "data": {
      "text/plain": [
       "<tensorflow.python.estimator.estimator.Estimator at 0x107e0b860>"
      ]
     },
     "execution_count": 17,
     "metadata": {},
     "output_type": "execute_result"
    }
   ],
   "source": [
    "# Note: You can get detailed information about the training by pointing a\n",
    "# Tensorboard instance to the training directory.\n",
    "#\n",
    "# You start Tensorboard via a terminal, for example by clicking on \"New\"\n",
    "# -> \"Terminal\" in the Jupyter directory view (this also works when\n",
    "# Jupyter server is running inside a Docker image).\n",
    "#\n",
    "# The following command will start Tensorboard and show all experimental\n",
    "# data below the \"/tmp\" directory (which is where new model directories\n",
    "# are created if we do not specify a model path):\n",
    "#\n",
    "# $ tensorboard --logdir /tmp/\n",
    "#\n",
    "# And then view the Tensorboard in your browser:\n",
    "# http://localhost:6006\n",
    "\n",
    "# Bonus challenge (don't do this during the workshop) : Try to increase the\n",
    "# number of training steps, batch_size, and/or parameters (hint: check out\n",
    "# the \"params\" argument when creating the estimator in the previous cell)\n",
    "# -- what accuracy can achieve with this convolutional network?\n",
    "input_fn = make_input_fn('%s/train-*' % data_path, batch_size=100)\n",
    "cnn_estimator.train(input_fn=input_fn, steps=100)"
   ]
  },
  {
   "cell_type": "code",
   "execution_count": 18,
   "metadata": {
    "colab": {
     "autoexec": {
      "startup": false,
      "wait_interval": 0
     },
     "base_uri": "https://localhost:8080/",
     "height": 204
    },
    "colab_type": "code",
    "executionInfo": {
     "elapsed": 4372,
     "status": "ok",
     "timestamp": 1526714134054,
     "user": {
      "displayName": "Andreas Steiner",
      "photoUrl": "https://lh3.googleusercontent.com/a/default-user=s128",
      "userId": "115804658599019978174"
     },
     "user_tz": -120
    },
    "id": "1Ua0CEAOKtdQ",
    "outputId": "73d20d21-1013-4391-e3eb-c5e963219aa9"
   },
   "outputs": [
    {
     "name": "stdout",
     "output_type": "stream",
     "text": [
      "INFO:tensorflow:Calling model_fn.\n",
      "INFO:tensorflow:Done calling model_fn.\n",
      "INFO:tensorflow:Starting evaluation at 2018-05-19-16:24:48\n",
      "INFO:tensorflow:Graph was finalized.\n",
      "INFO:tensorflow:Restoring parameters from /var/folders/rf/9wzpp24d021fy0p480ggcysm0000gn/T/tmpsna0t8j9/model.ckpt-100\n",
      "INFO:tensorflow:Running local_init_op.\n",
      "INFO:tensorflow:Done running local_init_op.\n",
      "INFO:tensorflow:Evaluation [1/1]\n",
      "INFO:tensorflow:Finished evaluation at 2018-05-19-16:24:49\n",
      "INFO:tensorflow:Saving dict for global step 100: accuracy = 0.75, global_step = 100, loss = 0.931948\n"
     ]
    },
    {
     "data": {
      "text/plain": [
       "{'accuracy': 0.75, 'global_step': 100, 'loss': 0.9319483}"
      ]
     },
     "execution_count": 18,
     "metadata": {},
     "output_type": "execute_result"
    }
   ],
   "source": [
    "cnn_estimator.evaluate(input_fn=make_input_fn('%s/eval-*' % data_path),\n",
    "                       steps=1)"
   ]
  },
  {
   "cell_type": "code",
   "execution_count": 19,
   "metadata": {
    "colab": {
     "autoexec": {
      "startup": false,
      "wait_interval": 0
     },
     "base_uri": "https://localhost:8080/",
     "height": 800
    },
    "colab_type": "code",
    "executionInfo": {
     "elapsed": 2563,
     "status": "ok",
     "timestamp": 1526714154116,
     "user": {
      "displayName": "Andreas Steiner",
      "photoUrl": "https://lh3.googleusercontent.com/a/default-user=s128",
      "userId": "115804658599019978174"
     },
     "user_tz": -120
    },
    "id": "vhzbioUkKtdV",
    "outputId": "f5490ce7-c53d-4d41-fb86-5b37a8870bbd"
   },
   "outputs": [
    {
     "name": "stdout",
     "output_type": "stream",
     "text": [
      "INFO:tensorflow:Calling model_fn.\n",
      "INFO:tensorflow:Done calling model_fn.\n",
      "INFO:tensorflow:Graph was finalized.\n",
      "INFO:tensorflow:Restoring parameters from /var/folders/rf/9wzpp24d021fy0p480ggcysm0000gn/T/tmpsna0t8j9/model.ckpt-100\n",
      "INFO:tensorflow:Running local_init_op.\n",
      "INFO:tensorflow:Done running local_init_op.\n"
     ]
    },
    {
     "data": {
      "image/png": "[encoded data removed]",
      "text/plain": [
       "<matplotlib.figure.Figure at 0x18221001d0>"
      ]
     },
     "metadata": {},
     "output_type": "display_data"
    }
   ],
   "source": [
    "input_fn = make_input_fn('%s/test-*' % data_path, batch_size=1)\n",
    "show_predictions(cnn_estimator, predict_keys='probabilities')"
   ]
  },
  {
   "cell_type": "markdown",
   "metadata": {
    "colab_type": "text",
    "id": "KGNhs-ACKtdY"
   },
   "source": [
    "# 4 Keras – bonus!<a name=\"_4 keras – bonus!\"></a><a name=\"_4 keras – bonus!\"></a>"
   ]
  },
  {
   "cell_type": "markdown",
   "metadata": {
    "colab_type": "text",
    "id": "Qd2EksWCKtdZ"
   },
   "source": [
    "\"Keras is a high-level neural networks API, written in Python and capable of\n",
    "running on top of TensorFlow, CNTK, or Theano. It was developed with a focus\n",
    "on enabling fast experimentation. Being able to go from idea to result with\n",
    "the least possible delay is key to doing good research.\"\n",
    "(from https://keras.io/)\n",
    "\n",
    "In this section we reconstruct the same convolutional model as in the last\n",
    "section using Keras and then convert the Keras model to an estimator so we\n",
    "can use the same input functions reading data in a streaming fashion from our\n",
    "data on disk.\n",
    "\n",
    "More useful links about Keras (not needed for this section):\n",
    "\n",
    "- https://keras.io/models/about-keras-models/\n",
    "- https://keras.io/models/sequential/\n",
    "- https://keras.io/models/model/\n",
    "- [Converting Keras model to Tensorflow estimator](https://cloud.google.com/blog/big-data/2017/12/new-in-tensorflow-14-converting-a-keras-model-to-a-tensorflow-estimator)\n",
    "- [Example using functional API with input_fn](https://github.com/keras-team/keras/blob/master/examples/mnist_tfrecord.py)"
   ]
  },
  {
   "cell_type": "code",
   "execution_count": 20,
   "metadata": {
    "colab": {
     "autoexec": {
      "startup": false,
      "wait_interval": 0
     },
     "base_uri": "https://localhost:8080/",
     "height": 374
    },
    "colab_type": "code",
    "executionInfo": {
     "elapsed": 922,
     "status": "ok",
     "timestamp": 1526714174789,
     "user": {
      "displayName": "Andreas Steiner",
      "photoUrl": "https://lh3.googleusercontent.com/a/default-user=s128",
      "userId": "115804658599019978174"
     },
     "user_tz": -120
    },
    "id": "_cWVQm43KtdZ",
    "outputId": "8357c73d-1aee-4aa9-cf80-37ab9ba4a218"
   },
   "outputs": [
    {
     "name": "stdout",
     "output_type": "stream",
     "text": [
      "_________________________________________________________________\n",
      "Layer (type)                 Output Shape              Param #   \n",
      "=================================================================\n",
      "firstlayer (Conv2D)          (None, 64, 64, 32)        3232      \n",
      "_________________________________________________________________\n",
      "max_pooling2d_1 (MaxPooling2 (None, 16, 16, 32)        0         \n",
      "_________________________________________________________________\n",
      "conv2d_1 (Conv2D)            (None, 16, 16, 64)        51264     \n",
      "_________________________________________________________________\n",
      "max_pooling2d_2 (MaxPooling2 (None, 4, 4, 64)          0         \n",
      "_________________________________________________________________\n",
      "flatten_1 (Flatten)          (None, 1024)              0         \n",
      "_________________________________________________________________\n",
      "dense_1 (Dense)              (None, 256)               262400    \n",
      "_________________________________________________________________\n",
      "labels (Dense)               (None, 10)                2570      \n",
      "=================================================================\n",
      "Total params: 319,466\n",
      "Trainable params: 319,466\n",
      "Non-trainable params: 0\n",
      "_________________________________________________________________\n"
     ]
    }
   ],
   "source": [
    "# Keras is part of Tensorflow\n",
    "from tensorflow import keras\n",
    "\n",
    "# The model is specified as a succession of layers.\n",
    "# The layers here specify exactly the same model as in the previous section.\n",
    "model = keras.models.Sequential([\n",
    "    # Note that we need to name the first layer (to match features, see next\n",
    "    # cell) and specify the input shape.\n",
    "    keras.layers.Conv2D(filters=32, kernel_size=10, activation='relu',\n",
    "                        padding='same', name='firstlayer',\n",
    "                        input_shape=(64, 64, 1)),\n",
    "    keras.layers.MaxPooling2D(pool_size=4),\n",
    "    keras.layers.Conv2D(filters=64, kernel_size=5, activation='relu',\n",
    "                        padding='same'),\n",
    "    keras.layers.MaxPooling2D(pool_size=4),\n",
    "    keras.layers.Flatten(),\n",
    "    keras.layers.Dense(units=256, activation='relu'),\n",
    "    # We also need to name the output layer.\n",
    "    tf.keras.layers.Dense(units=len(classes), activation='softmax',\n",
    "                          name='labels'),\n",
    "])\n",
    "model.compile(loss='categorical_crossentropy',\n",
    "              optimizer='adam',\n",
    "              metrics=['accuracy'])\n",
    "# Neat :-)\n",
    "model.summary()"
   ]
  },
  {
   "cell_type": "code",
   "execution_count": 21,
   "metadata": {
    "colab": {
     "autoexec": {
      "startup": false,
      "wait_interval": 0
     },
     "base_uri": "https://localhost:8080/",
     "height": 309
    },
    "colab_type": "code",
    "executionInfo": {
     "elapsed": 115057,
     "status": "ok",
     "timestamp": 1526714293302,
     "user": {
      "displayName": "Andreas Steiner",
      "photoUrl": "https://lh3.googleusercontent.com/a/default-user=s128",
      "userId": "115804658599019978174"
     },
     "user_tz": -120
    },
    "id": "bDIiMXoGKtdd",
    "outputId": "907e2919-b5c9-466f-ed01-d85b313bde4b"
   },
   "outputs": [
    {
     "name": "stdout",
     "output_type": "stream",
     "text": [
      "INFO:tensorflow:Using the Keras model provided.\n",
      "INFO:tensorflow:Using default config.\n",
      "WARNING:tensorflow:Using temporary folder as model directory: /var/folders/rf/9wzpp24d021fy0p480ggcysm0000gn/T/tmpq3of6wz3\n",
      "INFO:tensorflow:Using config: {'_model_dir': '/var/folders/rf/9wzpp24d021fy0p480ggcysm0000gn/T/tmpq3of6wz3', '_tf_random_seed': None, '_save_summary_steps': 100, '_save_checkpoints_steps': None, '_save_checkpoints_secs': 600, '_session_config': None, '_keep_checkpoint_max': 5, '_keep_checkpoint_every_n_hours': 10000, '_log_step_count_steps': 100, '_service': None, '_cluster_spec': <tensorflow.python.training.server_lib.ClusterSpec object at 0x1821fcc978>, '_task_type': 'worker', '_task_id': 0, '_global_id_in_cluster': 0, '_master': '', '_evaluation_master': '', '_is_chief': True, '_num_ps_replicas': 0, '_num_worker_replicas': 1}\n",
      "INFO:tensorflow:Calling model_fn.\n",
      "INFO:tensorflow:Done calling model_fn.\n",
      "INFO:tensorflow:Create CheckpointSaverHook.\n",
      "INFO:tensorflow:Graph was finalized.\n",
      "INFO:tensorflow:Restoring parameters from /var/folders/rf/9wzpp24d021fy0p480ggcysm0000gn/T/tmpq3of6wz3/keras_model.ckpt\n",
      "INFO:tensorflow:Running local_init_op.\n",
      "INFO:tensorflow:Done running local_init_op.\n",
      "INFO:tensorflow:Saving checkpoints for 1 into /var/folders/rf/9wzpp24d021fy0p480ggcysm0000gn/T/tmpq3of6wz3/model.ckpt.\n",
      "INFO:tensorflow:loss = 2.35265, step = 1\n",
      "INFO:tensorflow:Saving checkpoints for 100 into /var/folders/rf/9wzpp24d021fy0p480ggcysm0000gn/T/tmpq3of6wz3/model.ckpt.\n",
      "INFO:tensorflow:Loss for final step: 0.870068.\n"
     ]
    },
    {
     "data": {
      "text/plain": [
       "<tensorflow.python.estimator.estimator.Estimator at 0x107d4d6a0>"
      ]
     },
     "execution_count": 21,
     "metadata": {},
     "output_type": "execute_result"
    }
   ],
   "source": [
    "# Helper function to wrap input_fn().\n",
    "def keras_make_input_fn(*args, **kwargs):\n",
    "    def wrapper():\n",
    "        input_fn = make_input_fn(*args, **kwargs)\n",
    "        features, labels = input_fn()\n",
    "        # We need to specify which feature is used as the input to\n",
    "        # which layer. In our case we have a single input feature\n",
    "        # that is read by layer \"firstlayer\". Note that we also need\n",
    "        # to add an additional dimension to get shape=(64, 64, 1).\n",
    "        features = {\n",
    "            'firstlayer_input': tf.expand_dims(features['img_64'], axis=3),\n",
    "        }\n",
    "        # Labels are expected in one_hot format.\n",
    "        labels = tf.one_hot(tf.squeeze(labels), 10)\n",
    "        return features, labels\n",
    "    return wrapper\n",
    "\n",
    "# From now on we proceed exactly as before...\n",
    "keras_estimator = keras.estimator.model_to_estimator(model)\n",
    "input_fn = keras_make_input_fn('%s/train-*' % data_path, batch_size=100)\n",
    "keras_estimator.train(input_fn=input_fn, steps=100)"
   ]
  },
  {
   "cell_type": "code",
   "execution_count": 22,
   "metadata": {
    "colab": {
     "autoexec": {
      "startup": false,
      "wait_interval": 0
     },
     "base_uri": "https://localhost:8080/",
     "height": 204
    },
    "colab_type": "code",
    "executionInfo": {
     "elapsed": 2740,
     "status": "ok",
     "timestamp": 1526714346211,
     "user": {
      "displayName": "Andreas Steiner",
      "photoUrl": "https://lh3.googleusercontent.com/a/default-user=s128",
      "userId": "115804658599019978174"
     },
     "user_tz": -120
    },
    "id": "x3-dlv-1Ktdg",
    "outputId": "10e5e77e-9221-4ef8-de07-e1a4b1775660"
   },
   "outputs": [
    {
     "name": "stdout",
     "output_type": "stream",
     "text": [
      "INFO:tensorflow:Calling model_fn.\n",
      "INFO:tensorflow:Done calling model_fn.\n",
      "INFO:tensorflow:Starting evaluation at 2018-05-19-16:26:13\n",
      "INFO:tensorflow:Graph was finalized.\n",
      "INFO:tensorflow:Restoring parameters from /var/folders/rf/9wzpp24d021fy0p480ggcysm0000gn/T/tmpq3of6wz3/model.ckpt-100\n",
      "INFO:tensorflow:Running local_init_op.\n",
      "INFO:tensorflow:Done running local_init_op.\n",
      "INFO:tensorflow:Evaluation [1/1]\n",
      "INFO:tensorflow:Finished evaluation at 2018-05-19-16:26:14\n",
      "INFO:tensorflow:Saving dict for global step 100: accuracy = 0.76, global_step = 100, loss = 0.676807\n"
     ]
    },
    {
     "data": {
      "text/plain": [
       "{'accuracy': 0.75999999, 'global_step': 100, 'loss': 0.67680681}"
      ]
     },
     "execution_count": 22,
     "metadata": {},
     "output_type": "execute_result"
    }
   ],
   "source": [
    "keras_estimator.evaluate(input_fn=keras_make_input_fn('%s/eval-*' % data_path),\n",
    "                         steps=1)"
   ]
  },
  {
   "cell_type": "markdown",
   "metadata": {
    "colab_type": "text",
    "id": "cGjez0EpKtdi"
   },
   "source": [
    "# 5 Recurrent neural network – bonus!\n",
    "\n",
    "So far we have been processing two dimensional image data. That\n",
    "data can be converted nicely into a dense tensor that is then the\n",
    "input layer of a linear classifier or convolutional network.\n",
    "\n",
    "If we want to process the raw stroke data, we need a different\n",
    "network architecture that reads in coordinate by coordinate, while\n",
    "updating its internal state and finally outputs a prediction --\n",
    "a **recurrent network**.\n",
    "\n",
    "Explaining the architecture for recurrent networks (specifically,\n",
    "we use a LSTM in this section) is out of the scope of this workshop,\n",
    "please read the following articles if you want to know more about the\n",
    "architecture:\n",
    "\n",
    "- http://colah.github.io/posts/2015-08-Understanding-LSTMs/\n",
    "- http://karpathy.github.io/2015/05/21/rnn-effectiveness/\n",
    "\n",
    "Using recurrent networks requires some tensor shape black magic and\n",
    "this is the main focus of this section."
   ]
  },
  {
   "cell_type": "code",
   "execution_count": 23,
   "metadata": {
    "colab": {
     "autoexec": {
      "startup": false,
      "wait_interval": 0
     },
     "base_uri": "https://localhost:8080/",
     "height": 561
    },
    "colab_type": "code",
    "executionInfo": {
     "elapsed": 2036,
     "status": "ok",
     "timestamp": 1526714360421,
     "user": {
      "displayName": "Andreas Steiner",
      "photoUrl": "https://lh3.googleusercontent.com/a/default-user=s128",
      "userId": "115804658599019978174"
     },
     "user_tz": -120
    },
    "id": "MqoLvLIOKtdi",
    "outputId": "4cf370dc-10ad-43dc-bbc2-1e4afa4781fc"
   },
   "outputs": [
    {
     "name": "stdout",
     "output_type": "stream",
     "text": [
      "total 1394336\r\n",
      "-rw-r--r--  1 andreassteiner  staff   9.7M May 19 17:31 eval-00000-of-00010\r\n",
      "-rw-r--r--  1 andreassteiner  staff   9.7M May 19 17:31 eval-00001-of-00010\r\n",
      "-rw-r--r--  1 andreassteiner  staff   9.7M May 19 17:31 eval-00002-of-00010\r\n",
      "-rw-r--r--  1 andreassteiner  staff   9.7M May 19 17:31 eval-00003-of-00010\r\n",
      "-rw-r--r--  1 andreassteiner  staff   9.8M May 19 17:31 eval-00004-of-00010\r\n",
      "-rw-r--r--  1 andreassteiner  staff   9.7M May 19 17:31 eval-00005-of-00010\r\n",
      "-rw-r--r--  1 andreassteiner  staff   9.7M May 19 17:31 eval-00006-of-00010\r\n",
      "-rw-r--r--  1 andreassteiner  staff   9.7M May 19 17:31 eval-00007-of-00010\r\n",
      "-rw-r--r--  1 andreassteiner  staff   9.8M May 19 17:31 eval-00008-of-00010\r\n",
      "-rw-r--r--  1 andreassteiner  staff   9.7M May 19 17:31 eval-00009-of-00010\r\n",
      "-rw-r--r--  1 andreassteiner  staff    74B May 19 17:31 labels.txt\r\n",
      "-rw-r--r--  1 andreassteiner  staff   9.7M May 19 17:31 test-00000-of-00010\r\n",
      "-rw-r--r--  1 andreassteiner  staff   9.7M May 19 17:31 test-00001-of-00010\r\n",
      "-rw-r--r--  1 andreassteiner  staff   9.8M May 19 17:31 test-00002-of-00010\r\n",
      "-rw-r--r--  1 andreassteiner  staff   9.7M May 19 17:31 test-00003-of-00010\r\n",
      "-rw-r--r--  1 andreassteiner  staff   9.7M May 19 17:31 test-00004-of-00010\r\n",
      "-rw-r--r--  1 andreassteiner  staff   9.7M May 19 17:31 test-00005-of-00010\r\n",
      "-rw-r--r--  1 andreassteiner  staff   9.7M May 19 17:31 test-00006-of-00010\r\n",
      "-rw-r--r--  1 andreassteiner  staff   9.8M May 19 17:31 test-00007-of-00010\r\n",
      "-rw-r--r--  1 andreassteiner  staff   9.7M May 19 17:31 test-00008-of-00010\r\n",
      "-rw-r--r--  1 andreassteiner  staff   9.7M May 19 17:31 test-00009-of-00010\r\n",
      "-rw-r--r--  1 andreassteiner  staff    49M May 19 17:31 train-00000-of-00010\r\n",
      "-rw-r--r--  1 andreassteiner  staff    49M May 19 17:31 train-00001-of-00010\r\n",
      "-rw-r--r--  1 andreassteiner  staff    49M May 19 17:31 train-00002-of-00010\r\n",
      "-rw-r--r--  1 andreassteiner  staff    49M May 19 17:31 train-00003-of-00010\r\n",
      "-rw-r--r--  1 andreassteiner  staff    49M May 19 17:31 train-00004-of-00010\r\n",
      "-rw-r--r--  1 andreassteiner  staff    49M May 19 17:31 train-00005-of-00010\r\n",
      "-rw-r--r--  1 andreassteiner  staff    49M May 19 17:31 train-00006-of-00010\r\n",
      "-rw-r--r--  1 andreassteiner  staff    49M May 19 17:31 train-00007-of-00010\r\n",
      "-rw-r--r--  1 andreassteiner  staff    49M May 19 17:31 train-00008-of-00010\r\n",
      "-rw-r--r--  1 andreassteiner  staff    49M May 19 17:31 train-00009-of-00010\r\n"
     ]
    }
   ],
   "source": [
    "# Load stroke data generated in 1_qd_data (bonus section):\n",
    "stroke_data_path = '../data/dataset_stroke'\n",
    "!ls -lh $stroke_data_path"
   ]
  },
  {
   "cell_type": "code",
   "execution_count": 24,
   "metadata": {
    "colab": {
     "autoexec": {
      "startup": false,
      "wait_interval": 0
     },
     "base_uri": "https://localhost:8080/",
     "height": 221
    },
    "colab_type": "code",
    "executionInfo": {
     "elapsed": 671,
     "status": "ok",
     "timestamp": 1526714405858,
     "user": {
      "displayName": "Andreas Steiner",
      "photoUrl": "https://lh3.googleusercontent.com/a/default-user=s128",
      "userId": "115804658599019978174"
     },
     "user_tz": -120
    },
    "id": "E8G33l_PKtdm",
    "outputId": "9a6a778f-ae79-4529-d9a2-c98aeb9f4cc4"
   },
   "outputs": [
    {
     "name": "stdout",
     "output_type": "stream",
     "text": [
      "10 label classes:\n",
      "\n",
      "0 -> elephant\n",
      "1 -> giraffe\n",
      "2 -> kangaroo\n",
      "3 -> lion\n",
      "4 -> monkey\n",
      "5 -> panda\n",
      "6 -> penguin\n",
      "7 -> rhinoceros\n",
      "8 -> tiger\n",
      "9 -> zebra\n"
     ]
    }
   ],
   "source": [
    "# Label classes...\n",
    "classes = open('%s/labels.txt' % stroke_data_path).read().splitlines()\n",
    "print('%d label classes:\\n' % len(classes))\n",
    "for i, label in enumerate(classes):\n",
    "    print('%d -> %s' % (i, label))"
   ]
  },
  {
   "cell_type": "code",
   "execution_count": 25,
   "metadata": {
    "colab": {
     "autoexec": {
      "startup": false,
      "wait_interval": 0
     },
     "base_uri": "https://localhost:8080/",
     "height": 119
    },
    "colab_type": "code",
    "executionInfo": {
     "elapsed": 844,
     "status": "ok",
     "timestamp": 1526714421000,
     "user": {
      "displayName": "Andreas Steiner",
      "photoUrl": "https://lh3.googleusercontent.com/a/default-user=s128",
      "userId": "115804658599019978174"
     },
     "user_tz": -120
    },
    "id": "-5d9psaAKtdr",
    "outputId": "81c29bcc-2976-4803-8aac-0cc54e3a5cdb"
   },
   "outputs": [
    {
     "name": "stdout",
     "output_type": "stream",
     "text": [
      "SparseTensorValue(indices=array([[0, 0],\n",
      "       [1, 1],\n",
      "       [2, 2]]), values=array([1, 2, 3], dtype=int32), dense_shape=array([3, 3]))\n",
      "[[1 0 0]\n",
      " [0 2 0]\n",
      " [0 0 3]]\n"
     ]
    }
   ],
   "source": [
    "# Some remarks on \"sparse tensors\": Conceptually, these\n",
    "# tensors are an efficient representation of a tensor that\n",
    "# has mostly \"0\" values. In the example below we initialize\n",
    "# a sparse tensor by specifying only non-\"0\" values and then\n",
    "# print the tensor as well as its dense representation.\n",
    "\n",
    "# If we read \"variable length\" tensors from disk then these\n",
    "# tensors will also be represented as sparse tensors (although\n",
    "# the tensors might be \"dense\" in a sense that they have very\n",
    "# few \"0\" values).\n",
    "\n",
    "with tf.Graph().as_default():\n",
    "    # Only specify non-\"0\" values of 3x3 diagnal matrix.\n",
    "    sparse = tf.SparseTensor(indices=[[0, 0], [1, 1], [2, 2]], values=[1, 2, 3],\n",
    "                             dense_shape=[3, 3])\n",
    "    # Convert to dense representation. Note that we can specify any\n",
    "    # \"dense_shape\" (resulting dense tensor is zero padded).\n",
    "    dense = tf.sparse_to_dense(sparse.indices, sparse.dense_shape,\n",
    "                               sparse.values)\n",
    "    with tf.Session() as sess:\n",
    "        print(sparse.eval())\n",
    "        print(dense.eval())"
   ]
  },
  {
   "cell_type": "code",
   "execution_count": 26,
   "metadata": {
    "colab": {
     "autoexec": {
      "startup": false,
      "wait_interval": 0
     },
     "base_uri": "https://localhost:8080/",
     "height": 34
    },
    "colab_type": "code",
    "executionInfo": {
     "elapsed": 1006,
     "status": "ok",
     "timestamp": 1526714424544,
     "user": {
      "displayName": "Andreas Steiner",
      "photoUrl": "https://lh3.googleusercontent.com/a/default-user=s128",
      "userId": "115804658599019978174"
     },
     "user_tz": -120
    },
    "id": "ecQWAyARKtdw",
    "outputId": "24f2046b-9414-4d27-b33b-ef901983867d"
   },
   "outputs": [
    {
     "name": "stdout",
     "output_type": "stream",
     "text": [
      "Overwriting _derived/4_convert_sparse.py\n"
     ]
    }
   ],
   "source": [
    "%%writefile _derived/4_convert_sparse.py\n",
    "# (Written into separate file for sharing with cloud code.)\n",
    "\n",
    "# Now let's define a helper function that limits variable length\n",
    "# sparse tensors to a maximum length and converts them to dense\n",
    "# tensors. We need to convert sparse tensors to dense tensors before\n",
    "# we can use them as input in the recurrent neural network.\n",
    "\n",
    "def convert_sparse(sparse, max_len):\n",
    "    \"\"\"Converts batched sparse tensor to dense tensor with specified size.\n",
    "    \n",
    "    Args:\n",
    "      sparse: tf.SparseTensor instance of shape=[n].\n",
    "      max_len: Truncates / zero-pads the dense tensor the specified max_len.\n",
    "    \"\"\"\n",
    "    # Convert to dense tensor.\n",
    "    dense = tf.sparse_to_dense(sparse.indices, sparse.dense_shape,\n",
    "                               sparse.values)\n",
    "    # Discard values above max_len.\n",
    "    dense = dense[:max_len]\n",
    "    # Zero-pad if length < max_len.\n",
    "    dense = tf.pad(dense, [[0, max_len - tf.shape(dense)[0]]])\n",
    "    return dense"
   ]
  },
  {
   "cell_type": "code",
   "execution_count": 27,
   "metadata": {
    "colab": {
     "autoexec": {
      "startup": false,
      "wait_interval": 0
     },
     "base_uri": "https://localhost:8080/",
     "height": 68
    },
    "colab_type": "code",
    "executionInfo": {
     "elapsed": 1069,
     "status": "ok",
     "timestamp": 1526714437371,
     "user": {
      "displayName": "Andreas Steiner",
      "photoUrl": "https://lh3.googleusercontent.com/a/default-user=s128",
      "userId": "115804658599019978174"
     },
     "user_tz": -120
    },
    "id": "SZ-8dOEVKtdz",
    "outputId": "efedacdf-e0d6-4164-9e70-f622fdf1a569"
   },
   "outputs": [
    {
     "name": "stdout",
     "output_type": "stream",
     "text": [
      "[1 2 3]\n",
      "[1 2 3 4 5 0 0 0 0 0]\n"
     ]
    },
    {
     "data": {
      "text/plain": [
       "<matplotlib.figure.Figure at 0x1822c944e0>"
      ]
     },
     "metadata": {},
     "output_type": "display_data"
    }
   ],
   "source": [
    "%run -i _derived/4_convert_sparse.py\n",
    "\n",
    "with tf.Graph().as_default():\n",
    "    # Manually define sparse X-coordinates [1,2,3,4,5].\n",
    "    # Note that our stroke coordinate \"sparse tensors\" have a single dimension\n",
    "    # and do not contain any zeros at all...\n",
    "    stroke_x = tf.SparseTensor(\n",
    "        indices=[[0], [1], [2], [3], [4]],\n",
    "        values=[1, 2, 3, 4, 5],\n",
    "        dense_shape=[5])\n",
    "    # Extract both shorter and longer dense tensor.\n",
    "    dense_short = convert_sparse(stroke_x, max_len=3)\n",
    "    dense_long = convert_sparse(stroke_x, max_len=10)\n",
    "    with tf.Session() as sess:\n",
    "        print(dense_short.eval())\n",
    "        print(dense_long.eval())"
   ]
  },
  {
   "cell_type": "code",
   "execution_count": 28,
   "metadata": {
    "colab": {
     "autoexec": {
      "startup": false,
      "wait_interval": 0
     },
     "base_uri": "https://localhost:8080/",
     "height": 34
    },
    "colab_type": "code",
    "executionInfo": {
     "elapsed": 865,
     "status": "ok",
     "timestamp": 1526714447805,
     "user": {
      "displayName": "Andreas Steiner",
      "photoUrl": "https://lh3.googleusercontent.com/a/default-user=s128",
      "userId": "115804658599019978174"
     },
     "user_tz": -120
    },
    "id": "553nkfckKtd2",
    "outputId": "78fd2ba5-65ef-4b50-9211-641d1405212c"
   },
   "outputs": [
    {
     "name": "stdout",
     "output_type": "stream",
     "text": [
      "Overwriting _derived/4_input_fn_stroke.py\n"
     ]
    }
   ],
   "source": [
    "%%writefile _derived/4_input_fn_stroke.py\n",
    "# (Written into separate file for sharing with cloud code.)\n",
    "\n",
    "# Because the data is stored in a different format (strokes instead of pixels)\n",
    "# we need a new input_fn.\n",
    "\n",
    "# Maximum number of points in concatenated strokes.\n",
    "MAX_LEN = 256\n",
    "\n",
    "# Because every drawing has a different number of points, we use \"VarLenFeature\"\n",
    "# and not \"FixedLenFeature\" for the stroke data. This will create\n",
    "# \"SparseTensor\".\n",
    "feature_spec = {\n",
    "    'stroke_x': tf.VarLenFeature(dtype=tf.float32),\n",
    "    'stroke_y': tf.VarLenFeature(dtype=tf.float32),\n",
    "    'stroke_z': tf.VarLenFeature(dtype=tf.float32),\n",
    "    'stroke_len': tf.FixedLenFeature([], tf.int64),\n",
    "    'label': tf.FixedLenFeature([], tf.int64),\n",
    "}\n",
    "\n",
    "def parse_example_stroke(serialized_example):\n",
    "    features = tf.parse_single_example(serialized_example, feature_spec)\n",
    "    label = features.pop('label')\n",
    "\n",
    "    # The we create a 'stroke' tensor with shape [3, MAX_LEN] where the first\n",
    "    # dimension indicates whether the values are X, Y, or Z coordinates.\n",
    "    stroke = tf.stack([\n",
    "        convert_sparse(features['stroke_x'], max_len=MAX_LEN),\n",
    "        convert_sparse(features['stroke_y'], max_len=MAX_LEN),\n",
    "        convert_sparse(features['stroke_z'], max_len=MAX_LEN),\n",
    "    ])\n",
    "\n",
    "    # Also truncate the \"stroke_len\" to MAX_LEN if needed.\n",
    "    stroke_len = tf.minimum(tf.cast(MAX_LEN, tf.int64), features['stroke_len'])\n",
    "\n",
    "    return dict(stroke=stroke, stroke_len=stroke_len), label\n",
    "\n",
    "# Copied from above Section \"1.2 Reading the data using Tensorflow\"\n",
    "def make_input_fn_stroke(files_pattern, batch_size=100):\n",
    "    def input_fn():\n",
    "        dataset = tf.data.TFRecordDataset(tf.gfile.Glob(files_pattern))\n",
    "        dataset = dataset.map(parse_example_stroke).batch(batch_size)\n",
    "        dataset = dataset.shuffle(buffer_size=5*batch_size).repeat()\n",
    "        features, labels = dataset.make_one_shot_iterator().get_next()\n",
    "        return features, labels\n",
    "    return input_fn"
   ]
  },
  {
   "cell_type": "code",
   "execution_count": 29,
   "metadata": {
    "colab": {
     "autoexec": {
      "startup": false,
      "wait_interval": 0
     },
     "base_uri": "https://localhost:8080/",
     "height": 206
    },
    "colab_type": "code",
    "executionInfo": {
     "elapsed": 1407,
     "status": "ok",
     "timestamp": 1526714454895,
     "user": {
      "displayName": "Andreas Steiner",
      "photoUrl": "https://lh3.googleusercontent.com/a/default-user=s128",
      "userId": "115804658599019978174"
     },
     "user_tz": -120
    },
    "id": "CGGUHXF9Ktd4",
    "outputId": "ad316dd0-df55-4735-aeea-74c3c3877c81"
   },
   "outputs": [
    {
     "name": "stdout",
     "output_type": "stream",
     "text": [
      "INFO:tensorflow:Graph was finalized.\n",
      "INFO:tensorflow:Running local_init_op.\n",
      "INFO:tensorflow:Done running local_init_op.\n"
     ]
    },
    {
     "data": {
      "image/png": "[encoded data removed]",
      "text/plain": [
       "<matplotlib.figure.Figure at 0x1822318908>"
      ]
     },
     "metadata": {},
     "output_type": "display_data"
    }
   ],
   "source": [
    "# Read some examples with above input_fn and plot data.\n",
    "\n",
    "%run -i _derived/4_input_fn_stroke.py\n",
    "\n",
    "# (Modified code from section 1.1 and 1.2)\n",
    "\n",
    "def show_stroke_img(stroke, label, ax=None):\n",
    "    \"\"\"Plots stroke data.\n",
    "\n",
    "    Args:\n",
    "      stroke: Array of shape=[3, n] where the second dimension\n",
    "          is time and the first dimension indicates X/Y coordinates\n",
    "          and Z-dimension that is set to 1 when a stroke ends and\n",
    "          0 otherwise (the array actually represents an array of\n",
    "          concatenated strokes and the Z-dimension is needed to tell\n",
    "          the individual strokes apart).\n",
    "    \"\"\"\n",
    "    ax = ax if ax else pyplot.gca()\n",
    "    xy = stroke[:2, :].cumsum(axis=1)\n",
    "    ax.plot(*xy)\n",
    "    # Plot all the strokes, including connecting line between strokes.\n",
    "    pxy = xy[:, stroke[2] != 0]\n",
    "    # Red dots mark end of individual strokes.\n",
    "    ax.plot(pxy[0], pxy[1], 'ro')\n",
    "    ax.set_xticks([])\n",
    "    ax.set_yticks([])\n",
    "    ax.set_title(label)\n",
    "\n",
    "batch_size = 5\n",
    "input_fn = make_input_fn_stroke(files_pattern='%s/train-*' % stroke_data_path,\n",
    "                                batch_size=batch_size)\n",
    "with tf.Graph().as_default():\n",
    "    features, labels = input_fn()\n",
    "    with tf.train.MonitoredSession() as sess:\n",
    "        strokes_, labels_ = sess.run([features['stroke'], labels])\n",
    "        pyplot.figure(figsize=(10, 2))\n",
    "        for i in range(batch_size):\n",
    "            ax = pyplot.subplot(1, batch_size, i+1)\n",
    "            show_stroke_img(strokes_[i], classes[labels_[i]], ax)"
   ]
  },
  {
   "cell_type": "code",
   "execution_count": 30,
   "metadata": {
    "colab": {
     "autoexec": {
      "startup": false,
      "wait_interval": 0
     },
     "base_uri": "https://localhost:8080/",
     "height": 34
    },
    "colab_type": "code",
    "executionInfo": {
     "elapsed": 897,
     "status": "ok",
     "timestamp": 1526714457639,
     "user": {
      "displayName": "Andreas Steiner",
      "photoUrl": "https://lh3.googleusercontent.com/a/default-user=s128",
      "userId": "115804658599019978174"
     },
     "user_tz": -120
    },
    "id": "RCeOIUs_Ktd6",
    "outputId": "c1ec261b-db16-444d-c28b-02b4c2a95df7"
   },
   "outputs": [
    {
     "name": "stdout",
     "output_type": "stream",
     "text": [
      "Overwriting _derived/4_get_nth.py\n"
     ]
    }
   ],
   "source": [
    "%%writefile _derived/4_get_nth.py\n",
    "# (Written into separate file for sharing with cloud code.)\n",
    "\n",
    "# Another helper function: This function will return the \"nth element\"\n",
    "# with different \"n\" for every element in the batch.\n",
    "# We will later need this function to get the prediction in the output\n",
    "# of the dynamic_rnn.\n",
    "\n",
    "def get_nth(tensor, ns, last_dim):\n",
    "    \"\"\"Tensor has shape [batch_size, max_len, last_dim].\"\"\"\n",
    "    shape = tf.shape(tensor)\n",
    "    batch_size, max_len = shape[0], shape[1]\n",
    "    # Flatten first two dimensions.\n",
    "    tensor = tf.reshape(tensor, [-1, last_dim])\n",
    "    # Calculate indices within flattened tensor.\n",
    "    idxs = tf.range(0, batch_size) * max_len + (tf.cast(ns, tf.int32) - 1)\n",
    "    # Return nth elements.\n",
    "    # TODO get rid of error UserWarning : https://stackoverflow.com/questions/35892412\n",
    "    return tf.gather(tensor, idxs)"
   ]
  },
  {
   "cell_type": "code",
   "execution_count": 31,
   "metadata": {
    "colab": {
     "autoexec": {
      "startup": false,
      "wait_interval": 0
     },
     "base_uri": "https://localhost:8080/",
     "height": 68
    },
    "colab_type": "code",
    "executionInfo": {
     "elapsed": 968,
     "status": "ok",
     "timestamp": 1526714464266,
     "user": {
      "displayName": "Andreas Steiner",
      "photoUrl": "https://lh3.googleusercontent.com/a/default-user=s128",
      "userId": "115804658599019978174"
     },
     "user_tz": -120
    },
    "id": "VUgsf7mUKtd9",
    "outputId": "0159569a-c363-4551-fb1d-ff6ba708a8f1"
   },
   "outputs": [
    {
     "name": "stdout",
     "output_type": "stream",
     "text": [
      "[[ 2  2]\n",
      " [-3 -3]]\n"
     ]
    },
    {
     "data": {
      "text/plain": [
       "<matplotlib.figure.Figure at 0x182195b2b0>"
      ]
     },
     "metadata": {},
     "output_type": "display_data"
    }
   ],
   "source": [
    "%run -i _derived/4_get_nth.py\n",
    "\n",
    "with tf.Graph().as_default(), tf.Session(graph=tf.Graph()) as sess:\n",
    "    # Define a batch with shape=[batch_size=2, max_len=5, last_dim=2]\n",
    "    batch = tf.constant([\n",
    "        # First tensor in batch (shape=[5, 2])\n",
    "        [[1, 1], [2, 2], [3, 3], [4, 4], [5, 5]],\n",
    "        # Second tensor in batch (shape=[5, 2])\n",
    "        [[-1, -1], [-2, -2], [-3, -3], [-4, -4], [-5, -5]],\n",
    "    ])\n",
    "    # Return the second and third element.\n",
    "    lens = tf.constant([2, 3], dtype=tf.int64)\n",
    "    print(get_nth(batch, lens, last_dim=2).eval())"
   ]
  },
  {
   "cell_type": "code",
   "execution_count": 32,
   "metadata": {
    "colab": {
     "autoexec": {
      "startup": false,
      "wait_interval": 0
     },
     "base_uri": "https://localhost:8080/",
     "height": 34
    },
    "colab_type": "code",
    "executionInfo": {
     "elapsed": 841,
     "status": "ok",
     "timestamp": 1526714466948,
     "user": {
      "displayName": "Andreas Steiner",
      "photoUrl": "https://lh3.googleusercontent.com/a/default-user=s128",
      "userId": "115804658599019978174"
     },
     "user_tz": -120
    },
    "id": "Mhz9hKA1Ktd_",
    "outputId": "7c18203f-fea7-4c45-fb29-fcd0d400e670"
   },
   "outputs": [
    {
     "name": "stdout",
     "output_type": "stream",
     "text": [
      "Overwriting _derived/4_get_logits_stroke.py\n"
     ]
    }
   ],
   "source": [
    "%%writefile _derived/4_get_logits_stroke.py\n",
    "# (Written into separate file for sharing with cloud code.)\n",
    "\n",
    "# This function creates creates the logits fro the stroke features.\n",
    "def get_logits_stroke(features, n_classes, mode, params):\n",
    "    \"\"\"Computes logits for provided features.\n",
    "\n",
    "    Args:\n",
    "      features: A dictionary of tensors that are the features\n",
    "          and whose first dimension is batch (as returned by input_fn).\n",
    "      n_classes: Number of classes from which to predict (i.e. the number\n",
    "          of different values in the \"labels\" tensor returned by the\n",
    "          input_fn).\n",
    "      mode: A tf.estimator.ModeKeys.\n",
    "      params: Hyper parameters: \"cell_size\" specifying the state size of\n",
    "          the LSTM cells, and \"hidden\" specifying the configuration of the\n",
    "          dense layers after recurrent network.\n",
    "\n",
    "    Returns:\n",
    "      The logits tensor with shape=[batch, n_classes].\n",
    "    \"\"\"\n",
    "\n",
    "    cell_size = params.get('cell_size', 256)\n",
    "    hidden = params.get('hidden', ())\n",
    "    \n",
    "    # First we convert our data from \"coords major\" to \"time major\",\n",
    "    # as required by the dynamic_rnn API.\n",
    "    # [batch, coords, time] -> [batch, time, coords]\n",
    "    stroke = tf.transpose(features['stroke'], perm=[0, 2, 1])\n",
    "    stroke_len = features['stroke_len']\n",
    "\n",
    "    # Construct a bi-directional dynamic recurrent NN with LSTM\n",
    "    # cells.\n",
    "    outputs, states = tf.nn.bidirectional_dynamic_rnn(\n",
    "            cell_fw=tf.nn.rnn_cell.LSTMCell(cell_size),\n",
    "            cell_bw=tf.nn.rnn_cell.LSTMCell(cell_size),\n",
    "            inputs=stroke,\n",
    "            sequence_length=stroke_len,\n",
    "            dtype=tf.float32,\n",
    "    )\n",
    "    # Use helper function from last cell to extract RNN output values.\n",
    "    outputs = tf.concat((get_nth(outputs[0], stroke_len, last_dim=cell_size),\n",
    "                         get_nth(outputs[1], stroke_len, last_dim=cell_size)),\n",
    "                        axis=1)\n",
    "\n",
    "    # Add fully connected layers on top.\n",
    "    for units in hidden:\n",
    "        outputs = tf.layers.dense(inputs=outputs, units=units,\n",
    "                                  activation=tf.nn.relu)\n",
    "\n",
    "    # Logits are activations of last fully connected layer.\n",
    "    return tf.layers.dense(inputs=outputs, units=n_classes)"
   ]
  },
  {
   "cell_type": "code",
   "execution_count": 33,
   "metadata": {
    "colab": {
     "autoexec": {
      "startup": false,
      "wait_interval": 0
     },
     "base_uri": "https://localhost:8080/",
     "height": 751
    },
    "colab_type": "code",
    "executionInfo": {
     "elapsed": 54520,
     "status": "ok",
     "timestamp": 1526714528479,
     "user": {
      "displayName": "Andreas Steiner",
      "photoUrl": "https://lh3.googleusercontent.com/a/default-user=s128",
      "userId": "115804658599019978174"
     },
     "user_tz": -120
    },
    "id": "OHZEIewvKteB",
    "outputId": "3a96161a-349a-40bc-fa39-4c41db18c464"
   },
   "outputs": [
    {
     "name": "stdout",
     "output_type": "stream",
     "text": [
      "WARNING:tensorflow:Using temporary folder as model directory: /var/folders/rf/9wzpp24d021fy0p480ggcysm0000gn/T/tmpndl3kyyq\n",
      "INFO:tensorflow:Using config: {'_model_dir': '/var/folders/rf/9wzpp24d021fy0p480ggcysm0000gn/T/tmpndl3kyyq', '_tf_random_seed': None, '_save_summary_steps': 1, '_save_checkpoints_steps': None, '_save_checkpoints_secs': 600, '_session_config': None, '_keep_checkpoint_max': 5, '_keep_checkpoint_every_n_hours': 10000, '_log_step_count_steps': 100, '_service': None, '_cluster_spec': <tensorflow.python.training.server_lib.ClusterSpec object at 0x1822c94e48>, '_task_type': 'worker', '_task_id': 0, '_global_id_in_cluster': 0, '_master': '', '_evaluation_master': '', '_is_chief': True, '_num_ps_replicas': 0, '_num_worker_replicas': 1}\n",
      "WARNING:tensorflow:Estimator's model_fn (<function make_model_fn.<locals>.model_fn at 0x182362cd90>) includes params argument, but params are not passed to Estimator.\n",
      "INFO:tensorflow:Calling model_fn.\n"
     ]
    },
    {
     "name": "stderr",
     "output_type": "stream",
     "text": [
      "/Users/andreassteiner/miniconda2/envs/bob_py3/lib/python3.6/site-packages/tensorflow/python/ops/gradients_impl.py:100: UserWarning: Converting sparse IndexedSlices to a dense Tensor of unknown shape. This may consume a large amount of memory.\n",
      "  \"Converting sparse IndexedSlices to a dense Tensor of unknown shape. \"\n"
     ]
    },
    {
     "name": "stdout",
     "output_type": "stream",
     "text": [
      "INFO:tensorflow:Variable \"bidirectional_rnn/fw/lstm_cell/kernel:0\" : [259, 1024].\n",
      "INFO:tensorflow:Variable \"bidirectional_rnn/fw/lstm_cell/bias:0\" : [1024].\n",
      "INFO:tensorflow:Variable \"bidirectional_rnn/bw/lstm_cell/kernel:0\" : [259, 1024].\n",
      "INFO:tensorflow:Variable \"bidirectional_rnn/bw/lstm_cell/bias:0\" : [1024].\n",
      "INFO:tensorflow:Variable \"dense/kernel:0\" : [512, 10].\n",
      "INFO:tensorflow:Variable \"dense/bias:0\" : [10].\n",
      "INFO:tensorflow:Total params : 537610.\n",
      "INFO:tensorflow:Done calling model_fn.\n",
      "INFO:tensorflow:Create CheckpointSaverHook.\n",
      "INFO:tensorflow:Graph was finalized.\n",
      "INFO:tensorflow:Running local_init_op.\n",
      "INFO:tensorflow:Done running local_init_op.\n",
      "INFO:tensorflow:Saving checkpoints for 1 into /var/folders/rf/9wzpp24d021fy0p480ggcysm0000gn/T/tmpndl3kyyq/model.ckpt.\n",
      "INFO:tensorflow:loss = 2.30219, step = 1\n",
      "INFO:tensorflow:Saving checkpoints for 100 into /var/folders/rf/9wzpp24d021fy0p480ggcysm0000gn/T/tmpndl3kyyq/model.ckpt.\n",
      "INFO:tensorflow:Loss for final step: 2.39157.\n",
      "INFO:tensorflow:Calling model_fn.\n",
      "INFO:tensorflow:Done calling model_fn.\n",
      "INFO:tensorflow:Starting evaluation at 2018-05-19-16:26:47\n",
      "INFO:tensorflow:Graph was finalized.\n",
      "INFO:tensorflow:Restoring parameters from /var/folders/rf/9wzpp24d021fy0p480ggcysm0000gn/T/tmpndl3kyyq/model.ckpt-100\n",
      "INFO:tensorflow:Running local_init_op.\n",
      "INFO:tensorflow:Done running local_init_op.\n",
      "INFO:tensorflow:Evaluation [1/10]\n",
      "INFO:tensorflow:Evaluation [2/10]\n",
      "INFO:tensorflow:Evaluation [3/10]\n",
      "INFO:tensorflow:Evaluation [4/10]\n",
      "INFO:tensorflow:Evaluation [5/10]\n",
      "INFO:tensorflow:Evaluation [6/10]\n",
      "INFO:tensorflow:Evaluation [7/10]\n",
      "INFO:tensorflow:Evaluation [8/10]\n",
      "INFO:tensorflow:Evaluation [9/10]\n",
      "INFO:tensorflow:Evaluation [10/10]\n",
      "INFO:tensorflow:Finished evaluation at 2018-05-19-16:26:48\n",
      "INFO:tensorflow:Saving dict for global step 100: accuracy = 0.18, global_step = 100, loss = 2.24132\n"
     ]
    },
    {
     "data": {
      "text/plain": [
       "{'accuracy': 0.18000001, 'global_step': 100, 'loss': 2.2413225}"
      ]
     },
     "execution_count": 33,
     "metadata": {},
     "output_type": "execute_result"
    }
   ],
   "source": [
    "%run -i _derived/4_get_logits_stroke.py\n",
    "\n",
    "# Same as before : Create estimator, train, evaluate.\n",
    "# Note that we need *much* more time and/or CPU power to get\n",
    "# decent results with the RNN, but eventually it will outperform\n",
    "# the convolutional classifier...\n",
    "\n",
    "# Use make_model_fn from section \"3 Custom convolutional classifier\"\n",
    "model_fn = make_model_fn(get_logits_fn=get_logits_stroke, n_classes=len(classes))\n",
    "config = tf.estimator.RunConfig(save_summary_steps=1)\n",
    "rnn_estimator = tf.estimator.Estimator(model_fn=model_fn, config=config)\n",
    "\n",
    "# We use smaller batch size to keep memory usage below ~1G (the\n",
    "# RNN has a large memory footprint because of the temporal unrolling).\n",
    "# To get good performance with this type of network we need much longer\n",
    "# training, which is impractical in a notebook. See next notebook\n",
    "# \"5_qd_cloud\" that describes how to train the network on Google Cloud\n",
    "# Environment using Cloud ML...\n",
    "input_fn = make_input_fn_stroke('%s/train-*' % stroke_data_path, batch_size=10)\n",
    "rnn_estimator.train(input_fn=input_fn, steps=100)\n",
    "input_fn = make_input_fn_stroke('%s/eval-*' % stroke_data_path, batch_size=10)\n",
    "rnn_estimator.evaluate(input_fn=input_fn, steps=10)"
   ]
  },
  {
   "cell_type": "markdown",
   "metadata": {
    "colab_type": "text",
    "id": "OkpS7QOqKteH"
   },
   "source": [
    "# A References\n",
    "\n",
    "- https://www.tensorflow.org/versions/master/get_started/feature_columns\n",
    "- https://arxiv.org/abs/1704.03477 : A Neural Representation of Sketch Drawings\n",
    "- https://cloud.google.com/blog/big-data/2017/01/learn-tensorflow-and-deep-learning-without-a-phd : Nice tutorial explaining convolutions, recurrent networks, and some deep learning tricks – Challenge: try to improve the models in this notebook with the techniques described in this presentation!"
   ]
  }
 ],
 "metadata": {
  "colab": {
   "collapsed_sections": [],
   "default_view": {},
   "name": "4_qd_estimator.ipynb",
   "provenance": [],
   "toc_visible": true,
   "version": "0.3.2",
   "views": {}
  },
  "kernelspec": {
   "display_name": "Python 3",
   "language": "python",
   "name": "python3"
  },
  "language_info": {
   "codemirror_mode": {
    "name": "ipython",
    "version": 3
   },
   "file_extension": ".py",
   "mimetype": "text/x-python",
   "name": "python",
   "nbconvert_exporter": "python",
   "pygments_lexer": "ipython3",
   "version": "3.6.4"
  },
  "toc": {
   "nav_menu": {},
   "number_sections": true,
   "sideBar": true,
   "skip_h1_title": false,
   "title_cell": "Table of Contents",
   "title_sidebar": "Contents",
   "toc_cell": false,
   "toc_position": {},
   "toc_section_display": true,
   "toc_window_display": false
  }
 },
 "nbformat": 4,
 "nbformat_minor": 1
}
